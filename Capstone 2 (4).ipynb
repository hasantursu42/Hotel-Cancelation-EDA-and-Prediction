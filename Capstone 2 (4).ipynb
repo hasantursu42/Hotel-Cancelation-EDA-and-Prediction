{
 "cells": [
  {
   "cell_type": "markdown",
   "id": "d3bae153",
   "metadata": {},
   "source": [
    "Import necessary dictionaries "
   ]
  },
  {
   "cell_type": "code",
   "execution_count": 201,
   "id": "945385a2",
   "metadata": {},
   "outputs": [],
   "source": [
    "import matplotlib as mpl\n",
    "import matplotlib.pyplot as plt \n",
    "%matplotlib inline\n",
    "import seaborn as sns\n",
    "import numpy  as np\n",
    "import pandas as pd\n",
    "import statsmodels.api as sm\n",
    "sns.set_style(\"darkgrid\")\n",
    "mpl.rcParams['figure.figsize'] = (20,5)"
   ]
  },
  {
   "cell_type": "markdown",
   "id": "000f6c5b",
   "metadata": {},
   "source": [
    "Upload the data"
   ]
  },
  {
   "cell_type": "code",
   "execution_count": 202,
   "id": "004d28a5",
   "metadata": {},
   "outputs": [],
   "source": [
    "df=pd.read_csv('hotel_bookings.csv')"
   ]
  },
  {
   "cell_type": "markdown",
   "id": "77f2ac55",
   "metadata": {},
   "source": [
    "Now, let's check our data"
   ]
  },
  {
   "cell_type": "code",
   "execution_count": 203,
   "id": "4658945c",
   "metadata": {},
   "outputs": [
    {
     "name": "stdout",
     "output_type": "stream",
     "text": [
      "<class 'pandas.core.frame.DataFrame'>\n",
      "RangeIndex: 119390 entries, 0 to 119389\n",
      "Data columns (total 32 columns):\n",
      " #   Column                          Non-Null Count   Dtype  \n",
      "---  ------                          --------------   -----  \n",
      " 0   hotel                           119390 non-null  object \n",
      " 1   is_canceled                     119390 non-null  int64  \n",
      " 2   lead_time                       119390 non-null  int64  \n",
      " 3   arrival_date_year               119390 non-null  int64  \n",
      " 4   arrival_date_month              119390 non-null  object \n",
      " 5   arrival_date_week_number        119390 non-null  int64  \n",
      " 6   arrival_date_day_of_month       119390 non-null  int64  \n",
      " 7   stays_in_weekend_nights         119390 non-null  int64  \n",
      " 8   stays_in_week_nights            119390 non-null  int64  \n",
      " 9   adults                          119390 non-null  int64  \n",
      " 10  children                        119386 non-null  float64\n",
      " 11  babies                          119390 non-null  int64  \n",
      " 12  meal                            119390 non-null  object \n",
      " 13  country                         118902 non-null  object \n",
      " 14  market_segment                  119390 non-null  object \n",
      " 15  distribution_channel            119390 non-null  object \n",
      " 16  is_repeated_guest               119390 non-null  int64  \n",
      " 17  previous_cancellations          119390 non-null  int64  \n",
      " 18  previous_bookings_not_canceled  119390 non-null  int64  \n",
      " 19  reserved_room_type              119390 non-null  object \n",
      " 20  assigned_room_type              119390 non-null  object \n",
      " 21  booking_changes                 119390 non-null  int64  \n",
      " 22  deposit_type                    119390 non-null  object \n",
      " 23  agent                           103050 non-null  float64\n",
      " 24  company                         6797 non-null    float64\n",
      " 25  days_in_waiting_list            119390 non-null  int64  \n",
      " 26  customer_type                   119390 non-null  object \n",
      " 27  adr                             119390 non-null  float64\n",
      " 28  required_car_parking_spaces     119390 non-null  int64  \n",
      " 29  total_of_special_requests       119390 non-null  int64  \n",
      " 30  reservation_status              119390 non-null  object \n",
      " 31  reservation_status_date         119390 non-null  object \n",
      "dtypes: float64(4), int64(16), object(12)\n",
      "memory usage: 29.1+ MB\n"
     ]
    }
   ],
   "source": [
    "df.info()"
   ]
  },
  {
   "cell_type": "markdown",
   "id": "cb3172f9",
   "metadata": {},
   "source": [
    "\n",
    "The dataset has 119390 rows and 32 columns:\n",
    "hotel: The names of the hotel are City Hotel and Resort Hotel\n",
    "\n",
    "is_canceled: Boolean value stored as int64, indicates the hotel is canceled or not\n",
    "\n",
    "lead_time: Number of days that elapsed between the entering date of the booking into the PMS and the arrival date\n",
    "arrival_date: Information of the arrival date\n",
    "\n",
    "stay in_weekend_nights: Number of weekend nights (Saturday or Sunday) the guest stayed or booked to stay at the hotel\n",
    "stay in_week_nights: Number of week nights (Monday to Friday) the guest stayed or booked to stay at the hotel\n",
    "\n",
    "adults/ children/ babies: Number of adults/ children/ babies\n",
    "\n",
    "is_repeated_guest: Value indicating if the booking name was from a repeated guest (1) or not (0)\n",
    "\n",
    "deposit_type : No deposit, Non Refund, and Refundable are the types of deposits\n",
    "\n",
    "previous_cancellations : Is customer canceled (1) or not(0) before"
   ]
  },
  {
   "cell_type": "code",
   "execution_count": 204,
   "id": "f1cd69fe",
   "metadata": {},
   "outputs": [
    {
     "data": {
      "text/html": [
       "<div>\n",
       "<style scoped>\n",
       "    .dataframe tbody tr th:only-of-type {\n",
       "        vertical-align: middle;\n",
       "    }\n",
       "\n",
       "    .dataframe tbody tr th {\n",
       "        vertical-align: top;\n",
       "    }\n",
       "\n",
       "    .dataframe thead th {\n",
       "        text-align: right;\n",
       "    }\n",
       "</style>\n",
       "<table border=\"1\" class=\"dataframe\">\n",
       "  <thead>\n",
       "    <tr style=\"text-align: right;\">\n",
       "      <th></th>\n",
       "      <th>hotel</th>\n",
       "      <th>is_canceled</th>\n",
       "      <th>lead_time</th>\n",
       "      <th>arrival_date_year</th>\n",
       "      <th>arrival_date_month</th>\n",
       "      <th>arrival_date_week_number</th>\n",
       "      <th>arrival_date_day_of_month</th>\n",
       "      <th>stays_in_weekend_nights</th>\n",
       "      <th>stays_in_week_nights</th>\n",
       "      <th>adults</th>\n",
       "      <th>...</th>\n",
       "      <th>deposit_type</th>\n",
       "      <th>agent</th>\n",
       "      <th>company</th>\n",
       "      <th>days_in_waiting_list</th>\n",
       "      <th>customer_type</th>\n",
       "      <th>adr</th>\n",
       "      <th>required_car_parking_spaces</th>\n",
       "      <th>total_of_special_requests</th>\n",
       "      <th>reservation_status</th>\n",
       "      <th>reservation_status_date</th>\n",
       "    </tr>\n",
       "  </thead>\n",
       "  <tbody>\n",
       "    <tr>\n",
       "      <th>0</th>\n",
       "      <td>Resort Hotel</td>\n",
       "      <td>0</td>\n",
       "      <td>342</td>\n",
       "      <td>2015</td>\n",
       "      <td>July</td>\n",
       "      <td>27</td>\n",
       "      <td>1</td>\n",
       "      <td>0</td>\n",
       "      <td>0</td>\n",
       "      <td>2</td>\n",
       "      <td>...</td>\n",
       "      <td>No Deposit</td>\n",
       "      <td>NaN</td>\n",
       "      <td>NaN</td>\n",
       "      <td>0</td>\n",
       "      <td>Transient</td>\n",
       "      <td>0.0</td>\n",
       "      <td>0</td>\n",
       "      <td>0</td>\n",
       "      <td>Check-Out</td>\n",
       "      <td>2015-07-01</td>\n",
       "    </tr>\n",
       "    <tr>\n",
       "      <th>1</th>\n",
       "      <td>Resort Hotel</td>\n",
       "      <td>0</td>\n",
       "      <td>737</td>\n",
       "      <td>2015</td>\n",
       "      <td>July</td>\n",
       "      <td>27</td>\n",
       "      <td>1</td>\n",
       "      <td>0</td>\n",
       "      <td>0</td>\n",
       "      <td>2</td>\n",
       "      <td>...</td>\n",
       "      <td>No Deposit</td>\n",
       "      <td>NaN</td>\n",
       "      <td>NaN</td>\n",
       "      <td>0</td>\n",
       "      <td>Transient</td>\n",
       "      <td>0.0</td>\n",
       "      <td>0</td>\n",
       "      <td>0</td>\n",
       "      <td>Check-Out</td>\n",
       "      <td>2015-07-01</td>\n",
       "    </tr>\n",
       "    <tr>\n",
       "      <th>2</th>\n",
       "      <td>Resort Hotel</td>\n",
       "      <td>0</td>\n",
       "      <td>7</td>\n",
       "      <td>2015</td>\n",
       "      <td>July</td>\n",
       "      <td>27</td>\n",
       "      <td>1</td>\n",
       "      <td>0</td>\n",
       "      <td>1</td>\n",
       "      <td>1</td>\n",
       "      <td>...</td>\n",
       "      <td>No Deposit</td>\n",
       "      <td>NaN</td>\n",
       "      <td>NaN</td>\n",
       "      <td>0</td>\n",
       "      <td>Transient</td>\n",
       "      <td>75.0</td>\n",
       "      <td>0</td>\n",
       "      <td>0</td>\n",
       "      <td>Check-Out</td>\n",
       "      <td>2015-07-02</td>\n",
       "    </tr>\n",
       "    <tr>\n",
       "      <th>3</th>\n",
       "      <td>Resort Hotel</td>\n",
       "      <td>0</td>\n",
       "      <td>13</td>\n",
       "      <td>2015</td>\n",
       "      <td>July</td>\n",
       "      <td>27</td>\n",
       "      <td>1</td>\n",
       "      <td>0</td>\n",
       "      <td>1</td>\n",
       "      <td>1</td>\n",
       "      <td>...</td>\n",
       "      <td>No Deposit</td>\n",
       "      <td>304.0</td>\n",
       "      <td>NaN</td>\n",
       "      <td>0</td>\n",
       "      <td>Transient</td>\n",
       "      <td>75.0</td>\n",
       "      <td>0</td>\n",
       "      <td>0</td>\n",
       "      <td>Check-Out</td>\n",
       "      <td>2015-07-02</td>\n",
       "    </tr>\n",
       "    <tr>\n",
       "      <th>4</th>\n",
       "      <td>Resort Hotel</td>\n",
       "      <td>0</td>\n",
       "      <td>14</td>\n",
       "      <td>2015</td>\n",
       "      <td>July</td>\n",
       "      <td>27</td>\n",
       "      <td>1</td>\n",
       "      <td>0</td>\n",
       "      <td>2</td>\n",
       "      <td>2</td>\n",
       "      <td>...</td>\n",
       "      <td>No Deposit</td>\n",
       "      <td>240.0</td>\n",
       "      <td>NaN</td>\n",
       "      <td>0</td>\n",
       "      <td>Transient</td>\n",
       "      <td>98.0</td>\n",
       "      <td>0</td>\n",
       "      <td>1</td>\n",
       "      <td>Check-Out</td>\n",
       "      <td>2015-07-03</td>\n",
       "    </tr>\n",
       "  </tbody>\n",
       "</table>\n",
       "<p>5 rows × 32 columns</p>\n",
       "</div>"
      ],
      "text/plain": [
       "          hotel  is_canceled  lead_time  arrival_date_year arrival_date_month  \\\n",
       "0  Resort Hotel            0        342               2015               July   \n",
       "1  Resort Hotel            0        737               2015               July   \n",
       "2  Resort Hotel            0          7               2015               July   \n",
       "3  Resort Hotel            0         13               2015               July   \n",
       "4  Resort Hotel            0         14               2015               July   \n",
       "\n",
       "   arrival_date_week_number  arrival_date_day_of_month  \\\n",
       "0                        27                          1   \n",
       "1                        27                          1   \n",
       "2                        27                          1   \n",
       "3                        27                          1   \n",
       "4                        27                          1   \n",
       "\n",
       "   stays_in_weekend_nights  stays_in_week_nights  adults  ...  deposit_type  \\\n",
       "0                        0                     0       2  ...    No Deposit   \n",
       "1                        0                     0       2  ...    No Deposit   \n",
       "2                        0                     1       1  ...    No Deposit   \n",
       "3                        0                     1       1  ...    No Deposit   \n",
       "4                        0                     2       2  ...    No Deposit   \n",
       "\n",
       "   agent company days_in_waiting_list customer_type   adr  \\\n",
       "0    NaN     NaN                    0     Transient   0.0   \n",
       "1    NaN     NaN                    0     Transient   0.0   \n",
       "2    NaN     NaN                    0     Transient  75.0   \n",
       "3  304.0     NaN                    0     Transient  75.0   \n",
       "4  240.0     NaN                    0     Transient  98.0   \n",
       "\n",
       "   required_car_parking_spaces  total_of_special_requests  reservation_status  \\\n",
       "0                            0                          0           Check-Out   \n",
       "1                            0                          0           Check-Out   \n",
       "2                            0                          0           Check-Out   \n",
       "3                            0                          0           Check-Out   \n",
       "4                            0                          1           Check-Out   \n",
       "\n",
       "  reservation_status_date  \n",
       "0              2015-07-01  \n",
       "1              2015-07-01  \n",
       "2              2015-07-02  \n",
       "3              2015-07-02  \n",
       "4              2015-07-03  \n",
       "\n",
       "[5 rows x 32 columns]"
      ]
     },
     "execution_count": 204,
     "metadata": {},
     "output_type": "execute_result"
    }
   ],
   "source": [
    "df.head()"
   ]
  },
  {
   "cell_type": "markdown",
   "id": "94f04f6e",
   "metadata": {},
   "source": [
    "Now, let's see percentages of null values."
   ]
  },
  {
   "cell_type": "code",
   "execution_count": 205,
   "id": "ad1c6afd",
   "metadata": {},
   "outputs": [
    {
     "name": "stdout",
     "output_type": "stream",
     "text": [
      "hotel - 0.0%\n",
      "is_canceled - 0.0%\n",
      "lead_time - 0.0%\n",
      "arrival_date_year - 0.0%\n",
      "arrival_date_month - 0.0%\n",
      "arrival_date_week_number - 0.0%\n",
      "arrival_date_day_of_month - 0.0%\n",
      "stays_in_weekend_nights - 0.0%\n",
      "stays_in_week_nights - 0.0%\n",
      "adults - 0.0%\n",
      "children - 3.350364352123293e-05%\n",
      "babies - 0.0%\n",
      "meal - 0.0%\n",
      "country - 0.004087444509590418%\n",
      "market_segment - 0.0%\n",
      "distribution_channel - 0.0%\n",
      "is_repeated_guest - 0.0%\n",
      "previous_cancellations - 0.0%\n",
      "previous_bookings_not_canceled - 0.0%\n",
      "reserved_room_type - 0.0%\n",
      "assigned_room_type - 0.0%\n",
      "booking_changes - 0.0%\n",
      "deposit_type - 0.0%\n",
      "agent - 0.13686238378423654%\n",
      "company - 0.943068933746545%\n",
      "days_in_waiting_list - 0.0%\n",
      "customer_type - 0.0%\n",
      "adr - 0.0%\n",
      "required_car_parking_spaces - 0.0%\n",
      "total_of_special_requests - 0.0%\n",
      "reservation_status - 0.0%\n",
      "reservation_status_date - 0.0%\n"
     ]
    }
   ],
   "source": [
    "for col in df.columns:\n",
    "    percentage_missing=np.mean(df[col].isnull())\n",
    "    print('{} - {}%'.format(col,percentage_missing))"
   ]
  },
  {
   "cell_type": "markdown",
   "id": "d9ff0722",
   "metadata": {},
   "source": [
    "It seems company column has a lot of missing values. Agent column is also has a bunch of missing. But overall we have pretty complete dataset. "
   ]
  },
  {
   "cell_type": "code",
   "execution_count": 208,
   "id": "f374ec82",
   "metadata": {},
   "outputs": [
    {
     "data": {
      "text/html": [
       "<div>\n",
       "<style scoped>\n",
       "    .dataframe tbody tr th:only-of-type {\n",
       "        vertical-align: middle;\n",
       "    }\n",
       "\n",
       "    .dataframe tbody tr th {\n",
       "        vertical-align: top;\n",
       "    }\n",
       "\n",
       "    .dataframe thead th {\n",
       "        text-align: right;\n",
       "    }\n",
       "</style>\n",
       "<table border=\"1\" class=\"dataframe\">\n",
       "  <thead>\n",
       "    <tr style=\"text-align: right;\">\n",
       "      <th></th>\n",
       "      <th>is_canceled</th>\n",
       "      <th>lead_time</th>\n",
       "      <th>arrival_date_year</th>\n",
       "      <th>arrival_date_week_number</th>\n",
       "      <th>arrival_date_day_of_month</th>\n",
       "      <th>stays_in_weekend_nights</th>\n",
       "      <th>stays_in_week_nights</th>\n",
       "      <th>adults</th>\n",
       "      <th>children</th>\n",
       "      <th>babies</th>\n",
       "      <th>is_repeated_guest</th>\n",
       "      <th>previous_cancellations</th>\n",
       "      <th>previous_bookings_not_canceled</th>\n",
       "      <th>booking_changes</th>\n",
       "      <th>agent</th>\n",
       "      <th>company</th>\n",
       "      <th>days_in_waiting_list</th>\n",
       "      <th>adr</th>\n",
       "      <th>required_car_parking_spaces</th>\n",
       "      <th>total_of_special_requests</th>\n",
       "    </tr>\n",
       "  </thead>\n",
       "  <tbody>\n",
       "    <tr>\n",
       "      <th>count</th>\n",
       "      <td>119390.000000</td>\n",
       "      <td>119390.000000</td>\n",
       "      <td>119390.000000</td>\n",
       "      <td>119390.000000</td>\n",
       "      <td>119390.000000</td>\n",
       "      <td>119390.000000</td>\n",
       "      <td>119390.000000</td>\n",
       "      <td>119390.000000</td>\n",
       "      <td>119386.000000</td>\n",
       "      <td>119390.000000</td>\n",
       "      <td>119390.000000</td>\n",
       "      <td>119390.000000</td>\n",
       "      <td>119390.000000</td>\n",
       "      <td>119390.000000</td>\n",
       "      <td>103050.000000</td>\n",
       "      <td>6797.000000</td>\n",
       "      <td>119390.000000</td>\n",
       "      <td>119390.000000</td>\n",
       "      <td>119390.000000</td>\n",
       "      <td>119390.000000</td>\n",
       "    </tr>\n",
       "    <tr>\n",
       "      <th>mean</th>\n",
       "      <td>0.370416</td>\n",
       "      <td>104.011416</td>\n",
       "      <td>2016.156554</td>\n",
       "      <td>27.165173</td>\n",
       "      <td>15.798241</td>\n",
       "      <td>0.927599</td>\n",
       "      <td>2.500302</td>\n",
       "      <td>1.856403</td>\n",
       "      <td>0.103890</td>\n",
       "      <td>0.007949</td>\n",
       "      <td>0.031912</td>\n",
       "      <td>0.087118</td>\n",
       "      <td>0.137097</td>\n",
       "      <td>0.221124</td>\n",
       "      <td>86.693382</td>\n",
       "      <td>189.266735</td>\n",
       "      <td>2.321149</td>\n",
       "      <td>101.831122</td>\n",
       "      <td>0.062518</td>\n",
       "      <td>0.571363</td>\n",
       "    </tr>\n",
       "    <tr>\n",
       "      <th>std</th>\n",
       "      <td>0.482918</td>\n",
       "      <td>106.863097</td>\n",
       "      <td>0.707476</td>\n",
       "      <td>13.605138</td>\n",
       "      <td>8.780829</td>\n",
       "      <td>0.998613</td>\n",
       "      <td>1.908286</td>\n",
       "      <td>0.579261</td>\n",
       "      <td>0.398561</td>\n",
       "      <td>0.097436</td>\n",
       "      <td>0.175767</td>\n",
       "      <td>0.844336</td>\n",
       "      <td>1.497437</td>\n",
       "      <td>0.652306</td>\n",
       "      <td>110.774548</td>\n",
       "      <td>131.655015</td>\n",
       "      <td>17.594721</td>\n",
       "      <td>50.535790</td>\n",
       "      <td>0.245291</td>\n",
       "      <td>0.792798</td>\n",
       "    </tr>\n",
       "    <tr>\n",
       "      <th>min</th>\n",
       "      <td>0.000000</td>\n",
       "      <td>0.000000</td>\n",
       "      <td>2015.000000</td>\n",
       "      <td>1.000000</td>\n",
       "      <td>1.000000</td>\n",
       "      <td>0.000000</td>\n",
       "      <td>0.000000</td>\n",
       "      <td>0.000000</td>\n",
       "      <td>0.000000</td>\n",
       "      <td>0.000000</td>\n",
       "      <td>0.000000</td>\n",
       "      <td>0.000000</td>\n",
       "      <td>0.000000</td>\n",
       "      <td>0.000000</td>\n",
       "      <td>1.000000</td>\n",
       "      <td>6.000000</td>\n",
       "      <td>0.000000</td>\n",
       "      <td>-6.380000</td>\n",
       "      <td>0.000000</td>\n",
       "      <td>0.000000</td>\n",
       "    </tr>\n",
       "    <tr>\n",
       "      <th>25%</th>\n",
       "      <td>0.000000</td>\n",
       "      <td>18.000000</td>\n",
       "      <td>2016.000000</td>\n",
       "      <td>16.000000</td>\n",
       "      <td>8.000000</td>\n",
       "      <td>0.000000</td>\n",
       "      <td>1.000000</td>\n",
       "      <td>2.000000</td>\n",
       "      <td>0.000000</td>\n",
       "      <td>0.000000</td>\n",
       "      <td>0.000000</td>\n",
       "      <td>0.000000</td>\n",
       "      <td>0.000000</td>\n",
       "      <td>0.000000</td>\n",
       "      <td>9.000000</td>\n",
       "      <td>62.000000</td>\n",
       "      <td>0.000000</td>\n",
       "      <td>69.290000</td>\n",
       "      <td>0.000000</td>\n",
       "      <td>0.000000</td>\n",
       "    </tr>\n",
       "    <tr>\n",
       "      <th>50%</th>\n",
       "      <td>0.000000</td>\n",
       "      <td>69.000000</td>\n",
       "      <td>2016.000000</td>\n",
       "      <td>28.000000</td>\n",
       "      <td>16.000000</td>\n",
       "      <td>1.000000</td>\n",
       "      <td>2.000000</td>\n",
       "      <td>2.000000</td>\n",
       "      <td>0.000000</td>\n",
       "      <td>0.000000</td>\n",
       "      <td>0.000000</td>\n",
       "      <td>0.000000</td>\n",
       "      <td>0.000000</td>\n",
       "      <td>0.000000</td>\n",
       "      <td>14.000000</td>\n",
       "      <td>179.000000</td>\n",
       "      <td>0.000000</td>\n",
       "      <td>94.575000</td>\n",
       "      <td>0.000000</td>\n",
       "      <td>0.000000</td>\n",
       "    </tr>\n",
       "    <tr>\n",
       "      <th>75%</th>\n",
       "      <td>1.000000</td>\n",
       "      <td>160.000000</td>\n",
       "      <td>2017.000000</td>\n",
       "      <td>38.000000</td>\n",
       "      <td>23.000000</td>\n",
       "      <td>2.000000</td>\n",
       "      <td>3.000000</td>\n",
       "      <td>2.000000</td>\n",
       "      <td>0.000000</td>\n",
       "      <td>0.000000</td>\n",
       "      <td>0.000000</td>\n",
       "      <td>0.000000</td>\n",
       "      <td>0.000000</td>\n",
       "      <td>0.000000</td>\n",
       "      <td>229.000000</td>\n",
       "      <td>270.000000</td>\n",
       "      <td>0.000000</td>\n",
       "      <td>126.000000</td>\n",
       "      <td>0.000000</td>\n",
       "      <td>1.000000</td>\n",
       "    </tr>\n",
       "    <tr>\n",
       "      <th>max</th>\n",
       "      <td>1.000000</td>\n",
       "      <td>737.000000</td>\n",
       "      <td>2017.000000</td>\n",
       "      <td>53.000000</td>\n",
       "      <td>31.000000</td>\n",
       "      <td>19.000000</td>\n",
       "      <td>50.000000</td>\n",
       "      <td>55.000000</td>\n",
       "      <td>10.000000</td>\n",
       "      <td>10.000000</td>\n",
       "      <td>1.000000</td>\n",
       "      <td>26.000000</td>\n",
       "      <td>72.000000</td>\n",
       "      <td>21.000000</td>\n",
       "      <td>535.000000</td>\n",
       "      <td>543.000000</td>\n",
       "      <td>391.000000</td>\n",
       "      <td>5400.000000</td>\n",
       "      <td>8.000000</td>\n",
       "      <td>5.000000</td>\n",
       "    </tr>\n",
       "  </tbody>\n",
       "</table>\n",
       "</div>"
      ],
      "text/plain": [
       "         is_canceled      lead_time  arrival_date_year  \\\n",
       "count  119390.000000  119390.000000      119390.000000   \n",
       "mean        0.370416     104.011416        2016.156554   \n",
       "std         0.482918     106.863097           0.707476   \n",
       "min         0.000000       0.000000        2015.000000   \n",
       "25%         0.000000      18.000000        2016.000000   \n",
       "50%         0.000000      69.000000        2016.000000   \n",
       "75%         1.000000     160.000000        2017.000000   \n",
       "max         1.000000     737.000000        2017.000000   \n",
       "\n",
       "       arrival_date_week_number  arrival_date_day_of_month  \\\n",
       "count             119390.000000              119390.000000   \n",
       "mean                  27.165173                  15.798241   \n",
       "std                   13.605138                   8.780829   \n",
       "min                    1.000000                   1.000000   \n",
       "25%                   16.000000                   8.000000   \n",
       "50%                   28.000000                  16.000000   \n",
       "75%                   38.000000                  23.000000   \n",
       "max                   53.000000                  31.000000   \n",
       "\n",
       "       stays_in_weekend_nights  stays_in_week_nights         adults  \\\n",
       "count            119390.000000         119390.000000  119390.000000   \n",
       "mean                  0.927599              2.500302       1.856403   \n",
       "std                   0.998613              1.908286       0.579261   \n",
       "min                   0.000000              0.000000       0.000000   \n",
       "25%                   0.000000              1.000000       2.000000   \n",
       "50%                   1.000000              2.000000       2.000000   \n",
       "75%                   2.000000              3.000000       2.000000   \n",
       "max                  19.000000             50.000000      55.000000   \n",
       "\n",
       "            children         babies  is_repeated_guest  \\\n",
       "count  119386.000000  119390.000000      119390.000000   \n",
       "mean        0.103890       0.007949           0.031912   \n",
       "std         0.398561       0.097436           0.175767   \n",
       "min         0.000000       0.000000           0.000000   \n",
       "25%         0.000000       0.000000           0.000000   \n",
       "50%         0.000000       0.000000           0.000000   \n",
       "75%         0.000000       0.000000           0.000000   \n",
       "max        10.000000      10.000000           1.000000   \n",
       "\n",
       "       previous_cancellations  previous_bookings_not_canceled  \\\n",
       "count           119390.000000                   119390.000000   \n",
       "mean                 0.087118                        0.137097   \n",
       "std                  0.844336                        1.497437   \n",
       "min                  0.000000                        0.000000   \n",
       "25%                  0.000000                        0.000000   \n",
       "50%                  0.000000                        0.000000   \n",
       "75%                  0.000000                        0.000000   \n",
       "max                 26.000000                       72.000000   \n",
       "\n",
       "       booking_changes          agent      company  days_in_waiting_list  \\\n",
       "count    119390.000000  103050.000000  6797.000000         119390.000000   \n",
       "mean          0.221124      86.693382   189.266735              2.321149   \n",
       "std           0.652306     110.774548   131.655015             17.594721   \n",
       "min           0.000000       1.000000     6.000000              0.000000   \n",
       "25%           0.000000       9.000000    62.000000              0.000000   \n",
       "50%           0.000000      14.000000   179.000000              0.000000   \n",
       "75%           0.000000     229.000000   270.000000              0.000000   \n",
       "max          21.000000     535.000000   543.000000            391.000000   \n",
       "\n",
       "                 adr  required_car_parking_spaces  total_of_special_requests  \n",
       "count  119390.000000                119390.000000              119390.000000  \n",
       "mean      101.831122                     0.062518                   0.571363  \n",
       "std        50.535790                     0.245291                   0.792798  \n",
       "min        -6.380000                     0.000000                   0.000000  \n",
       "25%        69.290000                     0.000000                   0.000000  \n",
       "50%        94.575000                     0.000000                   0.000000  \n",
       "75%       126.000000                     0.000000                   1.000000  \n",
       "max      5400.000000                     8.000000                   5.000000  "
      ]
     },
     "execution_count": 208,
     "metadata": {},
     "output_type": "execute_result"
    }
   ],
   "source": [
    "df.describe()"
   ]
  },
  {
   "cell_type": "raw",
   "id": "285abdc3",
   "metadata": {},
   "source": [
    "Here I calculate the basic statistical values for the data. But My dataset is mostly binary, this isn't giving us much insights."
   ]
  },
  {
   "cell_type": "markdown",
   "id": "d88bc4cb",
   "metadata": {},
   "source": [
    "## Canceled counts"
   ]
  },
  {
   "cell_type": "code",
   "execution_count": 209,
   "id": "e5119152",
   "metadata": {},
   "outputs": [
    {
     "data": {
      "text/plain": [
       "is_canceled\n",
       "0    75166\n",
       "1    44224\n",
       "dtype: int64"
      ]
     },
     "execution_count": 209,
     "metadata": {},
     "output_type": "execute_result"
    }
   ],
   "source": [
    "df.value_counts('is_canceled')"
   ]
  },
  {
   "cell_type": "markdown",
   "id": "5a6cf0d8",
   "metadata": {},
   "source": [
    "Percentage of canceled reservation"
   ]
  },
  {
   "cell_type": "code",
   "execution_count": 210,
   "id": "2d38131b",
   "metadata": {},
   "outputs": [
    {
     "name": "stdout",
     "output_type": "stream",
     "text": [
      "is_canceled\n",
      "0    0.63\n",
      "1    0.37\n",
      "dtype: float64\n"
     ]
    }
   ],
   "source": [
    "percentage=df.value_counts('is_canceled',normalize=True).round(decimals=2)\n",
    "print(percentage)"
   ]
  },
  {
   "cell_type": "markdown",
   "id": "f53009b5",
   "metadata": {},
   "source": [
    "Overall 37% of reservation is canceled."
   ]
  },
  {
   "cell_type": "code",
   "execution_count": 211,
   "id": "1d1eee51",
   "metadata": {
    "scrolled": true
   },
   "outputs": [
    {
     "data": {
      "image/png": "[encoded data removed]",
      "text/plain": [
       "<Figure size 720x360 with 1 Axes>"
      ]
     },
     "metadata": {},
     "output_type": "display_data"
    }
   ],
   "source": [
    "fig = plt.figure(figsize = (10, 5))\n",
    "percentage.plot(kind='bar',title='Cancelation Rate',xlabel=('Not Canceled (0) - Canceled(1)'),ylabel=('percentage'))\n",
    "\n",
    "plt.show()\n"
   ]
  },
  {
   "cell_type": "markdown",
   "id": "938336d3",
   "metadata": {},
   "source": [
    "37% overall cancelation rate is quite high. So I will try to figure out what might be reason of this. "
   ]
  },
  {
   "cell_type": "markdown",
   "id": "45d6bdac",
   "metadata": {},
   "source": [
    "Hotel Types"
   ]
  },
  {
   "cell_type": "code",
   "execution_count": 212,
   "id": "155677fa",
   "metadata": {},
   "outputs": [
    {
     "data": {
      "text/plain": [
       "array(['City Hotel', 'Resort Hotel'], dtype=object)"
      ]
     },
     "execution_count": 212,
     "metadata": {},
     "output_type": "execute_result"
    }
   ],
   "source": [
    "np.unique(df['hotel'])"
   ]
  },
  {
   "cell_type": "markdown",
   "id": "055d4317",
   "metadata": {},
   "source": [
    "There is two type of hotel, City and Resort."
   ]
  },
  {
   "cell_type": "code",
   "execution_count": 213,
   "id": "9162795a",
   "metadata": {},
   "outputs": [
    {
     "name": "stdout",
     "output_type": "stream",
     "text": [
      "hotel\n",
      "City Hotel      79330\n",
      "Resort Hotel    40060\n",
      "dtype: int64\n"
     ]
    }
   ],
   "source": [
    "df_hoteltypes=df.value_counts('hotel')\n",
    "print(df_hoteltypes)"
   ]
  },
  {
   "cell_type": "code",
   "execution_count": 349,
   "id": "c7f13e75",
   "metadata": {},
   "outputs": [
    {
     "data": {
      "image/png": "[encoded data removed]",
      "text/plain": [
       "<Figure size 720x360 with 1 Axes>"
      ]
     },
     "metadata": {},
     "output_type": "display_data"
    }
   ],
   "source": [
    "fig = plt.figure(figsize = (10, 5))\n",
    "df_hoteltypes.plot(kind='bar',title='Number of Hotel Types')\n",
    "plt.ylabel('Hotel Numbers')\n",
    "plt.show()"
   ]
  },
  {
   "cell_type": "markdown",
   "id": "634f95ce",
   "metadata": {},
   "source": [
    "My dataset has almost 80000 City hotel while Resort hotel number is 40000"
   ]
  },
  {
   "cell_type": "code",
   "execution_count": 215,
   "id": "a9b99bb9",
   "metadata": {},
   "outputs": [],
   "source": [
    "con1=df[df['is_canceled']==1]"
   ]
  },
  {
   "cell_type": "markdown",
   "id": "9d10620a",
   "metadata": {},
   "source": [
    "This is the dataframe for all canceled observations."
   ]
  },
  {
   "cell_type": "markdown",
   "id": "259a996c",
   "metadata": {},
   "source": [
    "# Canceled reservations by hotel types"
   ]
  },
  {
   "cell_type": "code",
   "execution_count": 216,
   "id": "3979948b",
   "metadata": {},
   "outputs": [
    {
     "name": "stdout",
     "output_type": "stream",
     "text": [
      "hotel\n",
      "City Hotel      33102\n",
      "Resort Hotel    11122\n",
      "Name: is_canceled, dtype: int64\n"
     ]
    }
   ],
   "source": [
    "con2=con1.groupby('hotel')['is_canceled'].count()\n",
    "print(con2)"
   ]
  },
  {
   "cell_type": "code",
   "execution_count": 217,
   "id": "f104e82e",
   "metadata": {},
   "outputs": [
    {
     "data": {
      "text/plain": [
       "<AxesSubplot:title={'center':'Numbers of Reservation Canceled by Hotel Type'}, xlabel='Hotel Type', ylabel='Canceled Reservation'>"
      ]
     },
     "execution_count": 217,
     "metadata": {},
     "output_type": "execute_result"
    },
    {
     "data": {
      "image/png": "[encoded data removed]",
      "text/plain": [
       "<Figure size 720x360 with 1 Axes>"
      ]
     },
     "metadata": {},
     "output_type": "display_data"
    }
   ],
   "source": [
    "fig = plt.figure(figsize = (10, 5))\n",
    "con2.plot(kind='bar',title='Numbers of Reservation Canceled by Hotel Type',ylabel='Canceled Reservation',xlabel='Hotel Type',color='r')\n"
   ]
  },
  {
   "cell_type": "markdown",
   "id": "437de8bd",
   "metadata": {},
   "source": [
    "City Hotel has double of Resort hotel but City hotels cancelation numbers is almost triple of Resort hotel cancelation numbers. \n",
    "City Hotels(42%) have more cancelation problem than Resort Hotels(27%)."
   ]
  },
  {
   "cell_type": "markdown",
   "id": "a459a4bc",
   "metadata": {},
   "source": [
    "Let's Check cancelation trend over time"
   ]
  },
  {
   "cell_type": "code",
   "execution_count": 352,
   "id": "5764585b",
   "metadata": {},
   "outputs": [
    {
     "data": {
      "text/plain": [
       "<AxesSubplot:title={'center':'Reservation Canceled for Years'}, xlabel='arrival_date_year', ylabel='Numbers of Cancelation'>"
      ]
     },
     "execution_count": 352,
     "metadata": {},
     "output_type": "execute_result"
    },
    {
     "data": {
      "image/png": "[encoded data removed]",
      "text/plain": [
       "<Figure size 1440x360 with 1 Axes>"
      ]
     },
     "metadata": {},
     "output_type": "display_data"
    }
   ],
   "source": [
    "by_year=con1.groupby('arrival_date_year')['is_canceled'].count()\n",
    "plt.ylabel('Numbers of Cancelation')\n",
    "plt.title('Reservation Canceled for Years')\n",
    "by_year.plot(kind='bar')"
   ]
  },
  {
   "cell_type": "markdown",
   "id": "5a9f05b0",
   "metadata": {},
   "source": [
    "2016 has the biggest cancelation numbers. But this might be misleading so I check the numbers by months."
   ]
  },
  {
   "cell_type": "code",
   "execution_count": 353,
   "id": "69f96f96",
   "metadata": {},
   "outputs": [
    {
     "data": {
      "text/plain": [
       "<AxesSubplot:title={'center':'Reservation Canceled for Months'}, xlabel='arrival_date_year,arrival_date_month', ylabel='Numbers of Cancelation'>"
      ]
     },
     "execution_count": 353,
     "metadata": {},
     "output_type": "execute_result"
    },
    {
     "data": {
      "image/png": "[encoded data removed]",
      "text/plain": [
       "<Figure size 1440x360 with 1 Axes>"
      ]
     },
     "metadata": {},
     "output_type": "display_data"
    }
   ],
   "source": [
    "by_month=con1.groupby(['arrival_date_year','arrival_date_month'])['is_canceled'].count()\n",
    "plt.ylabel('Numbers of Cancelation')\n",
    "plt.title('Reservation Canceled for Months')\n",
    "by_month.plot(kind='bar')"
   ]
  },
  {
   "cell_type": "markdown",
   "id": "da739675",
   "metadata": {},
   "source": [
    "Cancelation over time shows November 2015 and January 2016 has the lowest cancelation while May 2017 has the highest cancelation number. "
   ]
  },
  {
   "cell_type": "markdown",
   "id": "fc7b344c",
   "metadata": {},
   "source": [
    "# Lets check first having kids effect on cancelation.\n"
   ]
  },
  {
   "cell_type": "code",
   "execution_count": 357,
   "id": "b1102bab",
   "metadata": {},
   "outputs": [
    {
     "name": "stdout",
     "output_type": "stream",
     "text": [
      "babies  children\n",
      "0       0.0         40961\n",
      "        1.0          1546\n",
      "        2.0          1528\n",
      "        3.0            17\n",
      "        10.0            1\n",
      "1       0.0           131\n",
      "        1.0            21\n",
      "        2.0            13\n",
      "2       0.0             2\n",
      "Name: is_canceled, dtype: int64\n"
     ]
    },
    {
     "data": {
      "image/png": "[encoded data removed]",
      "text/plain": [
       "<Figure size 1440x360 with 1 Axes>"
      ]
     },
     "metadata": {},
     "output_type": "display_data"
    }
   ],
   "source": [
    "children_babies=con1.groupby(['babies','children'])['is_canceled'].count()\n",
    "print(children_babies)\n",
    "children_babies.plot(kind='bar')\n",
    "plt.ylabel('Numbers of Cancelation')\n",
    "plt.xlabel('(Children numbers,Babies Numbers)')\n",
    "plt.title('Number Of Children & Cancelation')\n",
    "plt.show()"
   ]
  },
  {
   "cell_type": "markdown",
   "id": "22e5c24a",
   "metadata": {},
   "source": [
    "Here I have guest without kids so I will filter my data for only parents with kids."
   ]
  },
  {
   "cell_type": "code",
   "execution_count": 222,
   "id": "bbc93fff",
   "metadata": {},
   "outputs": [
    {
     "name": "stdout",
     "output_type": "stream",
     "text": [
      "Number of Families with Children and Babies Canceled the Reservation: \n",
      "3293\n"
     ]
    }
   ],
   "source": [
    "children_babies2=con1[con1['babies']>0]['is_canceled'].count()+ con1[con1['children']>0.0]['is_canceled'].count()\n",
    "print('Number of Families with Children and Babies Canceled the Reservation: ')\n",
    "print(children_babies2)"
   ]
  },
  {
   "cell_type": "code",
   "execution_count": 359,
   "id": "aec6c9f7",
   "metadata": {},
   "outputs": [
    {
     "name": "stdout",
     "output_type": "stream",
     "text": [
      "All Families with Children and Babies is 9507\n"
     ]
    }
   ],
   "source": [
    "children_babies3=df[df['babies']>0]['is_canceled'].count()+ df[df['children']>0.0]['is_canceled'].count()\n",
    "print('All Families with Children and Babies is '+str(children_babies3))"
   ]
  },
  {
   "cell_type": "code",
   "execution_count": 224,
   "id": "d77f3bfd",
   "metadata": {},
   "outputs": [
    {
     "data": {
      "text/plain": [
       "0.35"
      ]
     },
     "execution_count": 224,
     "metadata": {},
     "output_type": "execute_result"
    }
   ],
   "source": [
    "round(children_babies2/children_babies3,2)"
   ]
  },
  {
   "cell_type": "code",
   "execution_count": 362,
   "id": "96b2dab9",
   "metadata": {},
   "outputs": [
    {
     "data": {
      "image/png": "[encoded data removed]",
      "text/plain": [
       "<Figure size 720x360 with 1 Axes>"
      ]
     },
     "metadata": {},
     "output_type": "display_data"
    }
   ],
   "source": [
    "x=['Number of Families with Children and Babies','Number of Families with Children and Babies Canceled the Reservation']\n",
    "y=[9507,3293]\n",
    "fig = plt.figure(figsize = (10, 5))\n",
    " \n",
    "plt.bar(x, y, color ='maroon',\n",
    "        width = 0.4)\n",
    "plt.title('All Parents vs Parent Reservation Canceled')\n",
    "plt.show()"
   ]
  },
  {
   "cell_type": "markdown",
   "id": "f78c4be1",
   "metadata": {},
   "source": [
    "# While overall cancelation rate is 37%, families those have at least a baby or a child has 35% cancelation rate. This result disproves my assumption which claims families with children and/or babies have bigger cancelation rate."
   ]
  },
  {
   "cell_type": "markdown",
   "id": "e6c605c7",
   "metadata": {},
   "source": [
    "Let's check deposit types"
   ]
  },
  {
   "cell_type": "code",
   "execution_count": 363,
   "id": "0994f820",
   "metadata": {
    "scrolled": true
   },
   "outputs": [
    {
     "name": "stdout",
     "output_type": "stream",
     "text": [
      "deposit_type\n",
      "No Deposit    104641\n",
      "Non Refund     14587\n",
      "Refundable       162\n",
      "dtype: int64\n"
     ]
    },
    {
     "data": {
      "text/plain": [
       "Text(0.5, 1.0, 'Deposit Types on Cancelation')"
      ]
     },
     "execution_count": 363,
     "metadata": {},
     "output_type": "execute_result"
    },
    {
     "data": {
      "image/png": "[encoded data removed]",
      "text/plain": [
       "<Figure size 1440x360 with 1 Axes>"
      ]
     },
     "metadata": {},
     "output_type": "display_data"
    }
   ],
   "source": [
    "deposit_type=df.value_counts('deposit_type')\n",
    "\n",
    "print(deposit_type)\n",
    "deposit_type.plot(kind='bar')\n",
    "plt.ylabel('Numbers of Cancelation')\n",
    "plt.title('Deposit Types on Cancelation')"
   ]
  },
  {
   "cell_type": "code",
   "execution_count": 373,
   "id": "c09c584f",
   "metadata": {},
   "outputs": [
    {
     "name": "stdout",
     "output_type": "stream",
     "text": [
      "Deposit Payers Canceled the Reservation : 14749\n"
     ]
    }
   ],
   "source": [
    "Deposit1=df['deposit_type']=='Non Refund'\n",
    "Deposit2=df['deposit_type']=='Refundable'\n",
    "Deposit_all=df[Deposit1|Deposit2]\n",
    "Deposit_all['is_canceled'].count()\n",
    "print('Deposit Payers Canceled the Reservation : '+str(Deposit_all['is_canceled'].count()))"
   ]
  },
  {
   "cell_type": "code",
   "execution_count": 374,
   "id": "7cfbf639",
   "metadata": {},
   "outputs": [
    {
     "name": "stdout",
     "output_type": "stream",
     "text": [
      "All Deposit Payers : 14530\n"
     ]
    }
   ],
   "source": [
    "Deposit3=con1['deposit_type']=='Non Refund'\n",
    "Deposit4=con1['deposit_type']=='Refundable'\n",
    "Deposit_canceled=con1[Deposit3|Deposit4]\n",
    "Deposit_canceled['is_canceled'].count()\n",
    "print('All Deposit Payers : '+str(Deposit_canceled['is_canceled'].count()))"
   ]
  },
  {
   "cell_type": "code",
   "execution_count": 375,
   "id": "f5b534b5",
   "metadata": {},
   "outputs": [
    {
     "name": "stdout",
     "output_type": "stream",
     "text": [
      "Cancelation Rate for Deposit Payers : 0.99\n"
     ]
    }
   ],
   "source": [
    "print('Cancelation Rate for Deposit Payers : '+str(round(14530/14749,2)))"
   ]
  },
  {
   "cell_type": "code",
   "execution_count": 376,
   "id": "e189acc1",
   "metadata": {
    "scrolled": true
   },
   "outputs": [
    {
     "data": {
      "image/png": "[encoded data removed]",
      "text/plain": [
       "<Figure size 720x360 with 1 Axes>"
      ]
     },
     "metadata": {},
     "output_type": "display_data"
    }
   ],
   "source": [
    "x=['All Reservation with Deposit','Number of Reservation Canceled after Deposit']\n",
    "y=[14749,14530]\n",
    "fig = plt.figure(figsize = (10, 5))\n",
    " \n",
    "plt.bar(x, y, color ='maroon',\n",
    "        width = 0.4)\n",
    "plt.ylabel('Numbers of Reservations')\n",
    "plt.title('Deposit Types on Cancelation')\n",
    "plt.show()"
   ]
  },
  {
   "cell_type": "markdown",
   "id": "bec8573c",
   "metadata": {},
   "source": [
    "# Interestingly 99% of deposit payers canceled their reservation. It is too far away from our assumption. "
   ]
  },
  {
   "cell_type": "markdown",
   "id": "18752030",
   "metadata": {},
   "source": [
    "Now let's see how much did royal customers cancel."
   ]
  },
  {
   "cell_type": "code",
   "execution_count": 381,
   "id": "869884cb",
   "metadata": {},
   "outputs": [
    {
     "name": "stdout",
     "output_type": "stream",
     "text": [
      "is_repeated_guest\n",
      "0    115580\n",
      "1      3810\n",
      "dtype: int64\n"
     ]
    },
    {
     "data": {
      "text/plain": [
       "<AxesSubplot:title={'center':'Type of Repeated Guests'}, xlabel='is_repeated_guest', ylabel='Numbers of Reservations'>"
      ]
     },
     "execution_count": 381,
     "metadata": {},
     "output_type": "execute_result"
    },
    {
     "data": {
      "image/png": "[encoded data removed]",
      "text/plain": [
       "<Figure size 720x360 with 1 Axes>"
      ]
     },
     "metadata": {},
     "output_type": "display_data"
    }
   ],
   "source": [
    "previous_custumer=df.value_counts('is_repeated_guest')\n",
    "print(previous_custumer)\n",
    "fig = plt.figure(figsize = (10, 5))\n",
    "plt.ylabel('Numbers of Reservations')\n",
    "plt.title('Type of Repeated Guests')\n",
    "previous_custumer.plot(kind='bar')"
   ]
  },
  {
   "cell_type": "code",
   "execution_count": 377,
   "id": "ba898ce9",
   "metadata": {},
   "outputs": [
    {
     "name": "stdout",
     "output_type": "stream",
     "text": [
      "All Loyal Customers : 3810\n"
     ]
    }
   ],
   "source": [
    "customer1=df['is_repeated_guest']==1\n",
    "customer_all=df[customer1]\n",
    "print('All Loyal Customers : ' + str(customer_all['is_canceled'].count()))"
   ]
  },
  {
   "cell_type": "code",
   "execution_count": 378,
   "id": "40ba8dce",
   "metadata": {},
   "outputs": [
    {
     "name": "stdout",
     "output_type": "stream",
     "text": [
      "Reservation Canceler Loyal Customers : 552\n"
     ]
    }
   ],
   "source": [
    "customer2=con1['is_repeated_guest']==1\n",
    "customer_canceled=con1[customer2]\n",
    "print('Reservation Canceler Loyal Customers : ' + str(customer_canceled['is_canceled'].count()))"
   ]
  },
  {
   "cell_type": "code",
   "execution_count": 380,
   "id": "00f92f65",
   "metadata": {},
   "outputs": [
    {
     "name": "stdout",
     "output_type": "stream",
     "text": [
      "Reservation Cancelation Rate Amongs Loyal Customers : 0.14\n"
     ]
    }
   ],
   "source": [
    "print('Reservation Cancelation Rate Amongs Loyal Customers : ' + str(round(552/3810,2)))"
   ]
  },
  {
   "cell_type": "code",
   "execution_count": 382,
   "id": "fe8d2b0a",
   "metadata": {},
   "outputs": [
    {
     "data": {
      "image/png": "[encoded data removed]",
      "text/plain": [
       "<Figure size 720x360 with 1 Axes>"
      ]
     },
     "metadata": {},
     "output_type": "display_data"
    }
   ],
   "source": [
    "x=['All Previous Customers','Previous Customers Canceled']\n",
    "y=[3810,552]\n",
    "fig = plt.figure(figsize = (10, 5))\n",
    " \n",
    "plt.bar(x, y, color ='maroon',\n",
    "        width = 0.4)\n",
    "plt.ylabel('Numbers of Reservations')\n",
    "plt.title('Loyal Customers on Cancelation')\n",
    "plt.show()"
   ]
  },
  {
   "cell_type": "markdown",
   "id": "e6a82268",
   "metadata": {},
   "source": [
    "# 14% of loyal customers are canceled their reservation. Which is expected and better than overall cancelation rate (37%)."
   ]
  },
  {
   "cell_type": "markdown",
   "id": "3e0e0f5f",
   "metadata": {},
   "source": [
    "Now, let'see what did  do."
   ]
  },
  {
   "cell_type": "code",
   "execution_count": null,
   "id": "e3e43b30",
   "metadata": {},
   "outputs": [],
   "source": []
  },
  {
   "cell_type": "code",
   "execution_count": 391,
   "id": "99f9a2d7",
   "metadata": {},
   "outputs": [
    {
     "data": {
      "text/plain": [
       "<AxesSubplot:title={'center':'Type of Previous Cancelation'}, xlabel='is_repeated_guest', ylabel='Numbers of Reservations'>"
      ]
     },
     "execution_count": 391,
     "metadata": {},
     "output_type": "execute_result"
    },
    {
     "data": {
      "image/png": "[encoded data removed]",
      "text/plain": [
       "<Figure size 720x360 with 1 Axes>"
      ]
     },
     "metadata": {},
     "output_type": "display_data"
    }
   ],
   "source": [
    "previous_cancelars=df.value_counts('previous_cancellations')\n",
    "fig = plt.figure(figsize = (10, 5))\n",
    "plt.ylabel('Numbers of Reservations')\n",
    "plt.title('Type of Previous Cancelation')\n",
    "previous_custumer.plot(kind='bar')"
   ]
  },
  {
   "cell_type": "code",
   "execution_count": 392,
   "id": "a2a1dc6a",
   "metadata": {},
   "outputs": [
    {
     "name": "stdout",
     "output_type": "stream",
     "text": [
      "All Previous Cancelers : 6484\n"
     ]
    }
   ],
   "source": [
    "notloyal1=df['previous_cancellations']!=0\n",
    "notloyal_all=df[notloyal1]\n",
    "print('All Previous Cancelers : ' + str(notloyal_all['is_canceled'].count()))"
   ]
  },
  {
   "cell_type": "code",
   "execution_count": 393,
   "id": "c1248553",
   "metadata": {},
   "outputs": [
    {
     "name": "stdout",
     "output_type": "stream",
     "text": [
      "Canceled Previous Cancelers : 5942\n"
     ]
    }
   ],
   "source": [
    "notloyal2=con1['previous_cancellations']!=0\n",
    "notloyal_canceled=con1[notloyal2]\n",
    "print('Canceled Previous Cancelers : ' + str(notloyal_canceled['is_canceled'].count()))"
   ]
  },
  {
   "cell_type": "code",
   "execution_count": 394,
   "id": "d74fd0fb",
   "metadata": {},
   "outputs": [
    {
     "name": "stdout",
     "output_type": "stream",
     "text": [
      "Rate of Cancelation : 0.92\n"
     ]
    }
   ],
   "source": [
    "print('Rate of Cancelation : ' + str(round(5942/6482,2)))"
   ]
  },
  {
   "cell_type": "code",
   "execution_count": 395,
   "id": "05db0b6a",
   "metadata": {},
   "outputs": [
    {
     "data": {
      "image/png": "[encoded data removed]",
      "text/plain": [
       "<Figure size 720x360 with 1 Axes>"
      ]
     },
     "metadata": {},
     "output_type": "display_data"
    }
   ],
   "source": [
    "x=['Previuous Cancelation','Previous Cancelation Again']\n",
    "y=[6482,5942]\n",
    "fig = plt.figure(figsize = (10, 5))\n",
    " \n",
    "plt.bar(x, y, color ='maroon',\n",
    "        width = 0.4)\n",
    "plt.ylabel('Numbers of Reservations')\n",
    "plt.title('Cancelers on Cancelation')\n",
    "plt.show()"
   ]
  },
  {
   "cell_type": "markdown",
   "id": "0c67dfa2",
   "metadata": {},
   "source": [
    "# Not suprisigly 92% of previous cancelers have canceled again."
   ]
  },
  {
   "cell_type": "markdown",
   "id": "f5ae4d4f",
   "metadata": {},
   "source": [
    "Let's check countries stats'"
   ]
  },
  {
   "cell_type": "code",
   "execution_count": 240,
   "id": "46a8d47d",
   "metadata": {},
   "outputs": [
    {
     "name": "stdout",
     "output_type": "stream",
     "text": [
      "country\n",
      "PRT    48590\n",
      "GBR    12129\n",
      "FRA    10415\n",
      "ESP     8568\n",
      "DEU     7287\n",
      "       ...  \n",
      "MLI        1\n",
      "MMR        1\n",
      "MRT        1\n",
      "SMR        1\n",
      "PYF        1\n",
      "Length: 177, dtype: int64\n"
     ]
    }
   ],
   "source": [
    "country=df.value_counts('country')\n",
    "print(country)"
   ]
  },
  {
   "cell_type": "markdown",
   "id": "dd9dd590",
   "metadata": {},
   "source": [
    "Portugal, England, France, Spain and Germany are the countries our hotel place the most. So Let's see this 5 countries reservation cancelation numbers."
   ]
  },
  {
   "cell_type": "code",
   "execution_count": 241,
   "id": "9d7e99eb",
   "metadata": {},
   "outputs": [
    {
     "data": {
      "text/html": [
       "<div>\n",
       "<style scoped>\n",
       "    .dataframe tbody tr th:only-of-type {\n",
       "        vertical-align: middle;\n",
       "    }\n",
       "\n",
       "    .dataframe tbody tr th {\n",
       "        vertical-align: top;\n",
       "    }\n",
       "\n",
       "    .dataframe thead th {\n",
       "        text-align: right;\n",
       "    }\n",
       "</style>\n",
       "<table border=\"1\" class=\"dataframe\">\n",
       "  <thead>\n",
       "    <tr style=\"text-align: right;\">\n",
       "      <th></th>\n",
       "      <th>hotel</th>\n",
       "      <th>is_canceled</th>\n",
       "      <th>lead_time</th>\n",
       "      <th>arrival_date_year</th>\n",
       "      <th>arrival_date_month</th>\n",
       "      <th>arrival_date_week_number</th>\n",
       "      <th>arrival_date_day_of_month</th>\n",
       "      <th>stays_in_weekend_nights</th>\n",
       "      <th>stays_in_week_nights</th>\n",
       "      <th>adults</th>\n",
       "      <th>...</th>\n",
       "      <th>deposit_type</th>\n",
       "      <th>agent</th>\n",
       "      <th>company</th>\n",
       "      <th>days_in_waiting_list</th>\n",
       "      <th>customer_type</th>\n",
       "      <th>adr</th>\n",
       "      <th>required_car_parking_spaces</th>\n",
       "      <th>total_of_special_requests</th>\n",
       "      <th>reservation_status</th>\n",
       "      <th>reservation_status_date</th>\n",
       "    </tr>\n",
       "  </thead>\n",
       "  <tbody>\n",
       "    <tr>\n",
       "      <th>0</th>\n",
       "      <td>Resort Hotel</td>\n",
       "      <td>0</td>\n",
       "      <td>342</td>\n",
       "      <td>2015</td>\n",
       "      <td>July</td>\n",
       "      <td>27</td>\n",
       "      <td>1</td>\n",
       "      <td>0</td>\n",
       "      <td>0</td>\n",
       "      <td>2</td>\n",
       "      <td>...</td>\n",
       "      <td>No Deposit</td>\n",
       "      <td>NaN</td>\n",
       "      <td>NaN</td>\n",
       "      <td>0</td>\n",
       "      <td>Transient</td>\n",
       "      <td>0.0</td>\n",
       "      <td>0</td>\n",
       "      <td>0</td>\n",
       "      <td>Check-Out</td>\n",
       "      <td>2015-07-01</td>\n",
       "    </tr>\n",
       "    <tr>\n",
       "      <th>1</th>\n",
       "      <td>Resort Hotel</td>\n",
       "      <td>0</td>\n",
       "      <td>737</td>\n",
       "      <td>2015</td>\n",
       "      <td>July</td>\n",
       "      <td>27</td>\n",
       "      <td>1</td>\n",
       "      <td>0</td>\n",
       "      <td>0</td>\n",
       "      <td>2</td>\n",
       "      <td>...</td>\n",
       "      <td>No Deposit</td>\n",
       "      <td>NaN</td>\n",
       "      <td>NaN</td>\n",
       "      <td>0</td>\n",
       "      <td>Transient</td>\n",
       "      <td>0.0</td>\n",
       "      <td>0</td>\n",
       "      <td>0</td>\n",
       "      <td>Check-Out</td>\n",
       "      <td>2015-07-01</td>\n",
       "    </tr>\n",
       "    <tr>\n",
       "      <th>2</th>\n",
       "      <td>Resort Hotel</td>\n",
       "      <td>0</td>\n",
       "      <td>7</td>\n",
       "      <td>2015</td>\n",
       "      <td>July</td>\n",
       "      <td>27</td>\n",
       "      <td>1</td>\n",
       "      <td>0</td>\n",
       "      <td>1</td>\n",
       "      <td>1</td>\n",
       "      <td>...</td>\n",
       "      <td>No Deposit</td>\n",
       "      <td>NaN</td>\n",
       "      <td>NaN</td>\n",
       "      <td>0</td>\n",
       "      <td>Transient</td>\n",
       "      <td>75.0</td>\n",
       "      <td>0</td>\n",
       "      <td>0</td>\n",
       "      <td>Check-Out</td>\n",
       "      <td>2015-07-02</td>\n",
       "    </tr>\n",
       "    <tr>\n",
       "      <th>3</th>\n",
       "      <td>Resort Hotel</td>\n",
       "      <td>0</td>\n",
       "      <td>13</td>\n",
       "      <td>2015</td>\n",
       "      <td>July</td>\n",
       "      <td>27</td>\n",
       "      <td>1</td>\n",
       "      <td>0</td>\n",
       "      <td>1</td>\n",
       "      <td>1</td>\n",
       "      <td>...</td>\n",
       "      <td>No Deposit</td>\n",
       "      <td>304.0</td>\n",
       "      <td>NaN</td>\n",
       "      <td>0</td>\n",
       "      <td>Transient</td>\n",
       "      <td>75.0</td>\n",
       "      <td>0</td>\n",
       "      <td>0</td>\n",
       "      <td>Check-Out</td>\n",
       "      <td>2015-07-02</td>\n",
       "    </tr>\n",
       "    <tr>\n",
       "      <th>4</th>\n",
       "      <td>Resort Hotel</td>\n",
       "      <td>0</td>\n",
       "      <td>14</td>\n",
       "      <td>2015</td>\n",
       "      <td>July</td>\n",
       "      <td>27</td>\n",
       "      <td>1</td>\n",
       "      <td>0</td>\n",
       "      <td>2</td>\n",
       "      <td>2</td>\n",
       "      <td>...</td>\n",
       "      <td>No Deposit</td>\n",
       "      <td>240.0</td>\n",
       "      <td>NaN</td>\n",
       "      <td>0</td>\n",
       "      <td>Transient</td>\n",
       "      <td>98.0</td>\n",
       "      <td>0</td>\n",
       "      <td>1</td>\n",
       "      <td>Check-Out</td>\n",
       "      <td>2015-07-03</td>\n",
       "    </tr>\n",
       "    <tr>\n",
       "      <th>5</th>\n",
       "      <td>Resort Hotel</td>\n",
       "      <td>0</td>\n",
       "      <td>14</td>\n",
       "      <td>2015</td>\n",
       "      <td>July</td>\n",
       "      <td>27</td>\n",
       "      <td>1</td>\n",
       "      <td>0</td>\n",
       "      <td>2</td>\n",
       "      <td>2</td>\n",
       "      <td>...</td>\n",
       "      <td>No Deposit</td>\n",
       "      <td>240.0</td>\n",
       "      <td>NaN</td>\n",
       "      <td>0</td>\n",
       "      <td>Transient</td>\n",
       "      <td>98.0</td>\n",
       "      <td>0</td>\n",
       "      <td>1</td>\n",
       "      <td>Check-Out</td>\n",
       "      <td>2015-07-03</td>\n",
       "    </tr>\n",
       "    <tr>\n",
       "      <th>6</th>\n",
       "      <td>Resort Hotel</td>\n",
       "      <td>0</td>\n",
       "      <td>0</td>\n",
       "      <td>2015</td>\n",
       "      <td>July</td>\n",
       "      <td>27</td>\n",
       "      <td>1</td>\n",
       "      <td>0</td>\n",
       "      <td>2</td>\n",
       "      <td>2</td>\n",
       "      <td>...</td>\n",
       "      <td>No Deposit</td>\n",
       "      <td>NaN</td>\n",
       "      <td>NaN</td>\n",
       "      <td>0</td>\n",
       "      <td>Transient</td>\n",
       "      <td>107.0</td>\n",
       "      <td>0</td>\n",
       "      <td>0</td>\n",
       "      <td>Check-Out</td>\n",
       "      <td>2015-07-03</td>\n",
       "    </tr>\n",
       "    <tr>\n",
       "      <th>7</th>\n",
       "      <td>Resort Hotel</td>\n",
       "      <td>0</td>\n",
       "      <td>9</td>\n",
       "      <td>2015</td>\n",
       "      <td>July</td>\n",
       "      <td>27</td>\n",
       "      <td>1</td>\n",
       "      <td>0</td>\n",
       "      <td>2</td>\n",
       "      <td>2</td>\n",
       "      <td>...</td>\n",
       "      <td>No Deposit</td>\n",
       "      <td>303.0</td>\n",
       "      <td>NaN</td>\n",
       "      <td>0</td>\n",
       "      <td>Transient</td>\n",
       "      <td>103.0</td>\n",
       "      <td>0</td>\n",
       "      <td>1</td>\n",
       "      <td>Check-Out</td>\n",
       "      <td>2015-07-03</td>\n",
       "    </tr>\n",
       "    <tr>\n",
       "      <th>8</th>\n",
       "      <td>Resort Hotel</td>\n",
       "      <td>1</td>\n",
       "      <td>85</td>\n",
       "      <td>2015</td>\n",
       "      <td>July</td>\n",
       "      <td>27</td>\n",
       "      <td>1</td>\n",
       "      <td>0</td>\n",
       "      <td>3</td>\n",
       "      <td>2</td>\n",
       "      <td>...</td>\n",
       "      <td>No Deposit</td>\n",
       "      <td>240.0</td>\n",
       "      <td>NaN</td>\n",
       "      <td>0</td>\n",
       "      <td>Transient</td>\n",
       "      <td>82.0</td>\n",
       "      <td>0</td>\n",
       "      <td>1</td>\n",
       "      <td>Canceled</td>\n",
       "      <td>2015-05-06</td>\n",
       "    </tr>\n",
       "    <tr>\n",
       "      <th>9</th>\n",
       "      <td>Resort Hotel</td>\n",
       "      <td>1</td>\n",
       "      <td>75</td>\n",
       "      <td>2015</td>\n",
       "      <td>July</td>\n",
       "      <td>27</td>\n",
       "      <td>1</td>\n",
       "      <td>0</td>\n",
       "      <td>3</td>\n",
       "      <td>2</td>\n",
       "      <td>...</td>\n",
       "      <td>No Deposit</td>\n",
       "      <td>15.0</td>\n",
       "      <td>NaN</td>\n",
       "      <td>0</td>\n",
       "      <td>Transient</td>\n",
       "      <td>105.5</td>\n",
       "      <td>0</td>\n",
       "      <td>0</td>\n",
       "      <td>Canceled</td>\n",
       "      <td>2015-04-22</td>\n",
       "    </tr>\n",
       "  </tbody>\n",
       "</table>\n",
       "<p>10 rows × 32 columns</p>\n",
       "</div>"
      ],
      "text/plain": [
       "          hotel  is_canceled  lead_time  arrival_date_year arrival_date_month  \\\n",
       "0  Resort Hotel            0        342               2015               July   \n",
       "1  Resort Hotel            0        737               2015               July   \n",
       "2  Resort Hotel            0          7               2015               July   \n",
       "3  Resort Hotel            0         13               2015               July   \n",
       "4  Resort Hotel            0         14               2015               July   \n",
       "5  Resort Hotel            0         14               2015               July   \n",
       "6  Resort Hotel            0          0               2015               July   \n",
       "7  Resort Hotel            0          9               2015               July   \n",
       "8  Resort Hotel            1         85               2015               July   \n",
       "9  Resort Hotel            1         75               2015               July   \n",
       "\n",
       "   arrival_date_week_number  arrival_date_day_of_month  \\\n",
       "0                        27                          1   \n",
       "1                        27                          1   \n",
       "2                        27                          1   \n",
       "3                        27                          1   \n",
       "4                        27                          1   \n",
       "5                        27                          1   \n",
       "6                        27                          1   \n",
       "7                        27                          1   \n",
       "8                        27                          1   \n",
       "9                        27                          1   \n",
       "\n",
       "   stays_in_weekend_nights  stays_in_week_nights  adults  ...  deposit_type  \\\n",
       "0                        0                     0       2  ...    No Deposit   \n",
       "1                        0                     0       2  ...    No Deposit   \n",
       "2                        0                     1       1  ...    No Deposit   \n",
       "3                        0                     1       1  ...    No Deposit   \n",
       "4                        0                     2       2  ...    No Deposit   \n",
       "5                        0                     2       2  ...    No Deposit   \n",
       "6                        0                     2       2  ...    No Deposit   \n",
       "7                        0                     2       2  ...    No Deposit   \n",
       "8                        0                     3       2  ...    No Deposit   \n",
       "9                        0                     3       2  ...    No Deposit   \n",
       "\n",
       "   agent company days_in_waiting_list customer_type    adr  \\\n",
       "0    NaN     NaN                    0     Transient    0.0   \n",
       "1    NaN     NaN                    0     Transient    0.0   \n",
       "2    NaN     NaN                    0     Transient   75.0   \n",
       "3  304.0     NaN                    0     Transient   75.0   \n",
       "4  240.0     NaN                    0     Transient   98.0   \n",
       "5  240.0     NaN                    0     Transient   98.0   \n",
       "6    NaN     NaN                    0     Transient  107.0   \n",
       "7  303.0     NaN                    0     Transient  103.0   \n",
       "8  240.0     NaN                    0     Transient   82.0   \n",
       "9   15.0     NaN                    0     Transient  105.5   \n",
       "\n",
       "   required_car_parking_spaces  total_of_special_requests  reservation_status  \\\n",
       "0                            0                          0           Check-Out   \n",
       "1                            0                          0           Check-Out   \n",
       "2                            0                          0           Check-Out   \n",
       "3                            0                          0           Check-Out   \n",
       "4                            0                          1           Check-Out   \n",
       "5                            0                          1           Check-Out   \n",
       "6                            0                          0           Check-Out   \n",
       "7                            0                          1           Check-Out   \n",
       "8                            0                          1            Canceled   \n",
       "9                            0                          0            Canceled   \n",
       "\n",
       "  reservation_status_date  \n",
       "0              2015-07-01  \n",
       "1              2015-07-01  \n",
       "2              2015-07-02  \n",
       "3              2015-07-02  \n",
       "4              2015-07-03  \n",
       "5              2015-07-03  \n",
       "6              2015-07-03  \n",
       "7              2015-07-03  \n",
       "8              2015-05-06  \n",
       "9              2015-04-22  \n",
       "\n",
       "[10 rows x 32 columns]"
      ]
     },
     "execution_count": 241,
     "metadata": {},
     "output_type": "execute_result"
    }
   ],
   "source": [
    "country1=df['country']=='PRT'\n",
    "country2=df['country']=='GBR'\n",
    "country3=df['country']=='FRA'\n",
    "country4=df['country']=='ESP'\n",
    "country5=df['country']=='DEU'\n",
    "top5=df[country1|country2|country3|country4|country5]\n",
    "top5.head(10)"
   ]
  },
  {
   "cell_type": "markdown",
   "id": "eea22886",
   "metadata": {},
   "source": [
    "I filter my dataset for the 5 top countries. "
   ]
  },
  {
   "cell_type": "code",
   "execution_count": 242,
   "id": "3d68650f",
   "metadata": {},
   "outputs": [
    {
     "name": "stdout",
     "output_type": "stream",
     "text": [
      "country\n",
      "PRT    48590\n",
      "GBR    12129\n",
      "FRA    10415\n",
      "ESP     8568\n",
      "DEU     7287\n",
      "dtype: int64\n"
     ]
    }
   ],
   "source": [
    "top_country=top5.value_counts('country')\n",
    "print(top_country)"
   ]
  },
  {
   "cell_type": "code",
   "execution_count": 401,
   "id": "7c8b4409",
   "metadata": {},
   "outputs": [
    {
     "data": {
      "image/png": "[encoded data removed]",
      "text/plain": [
       "<Figure size 1440x360 with 1 Axes>"
      ]
     },
     "metadata": {},
     "output_type": "display_data"
    },
    {
     "data": {
      "text/plain": [
       "<Figure size 720x360 with 0 Axes>"
      ]
     },
     "metadata": {},
     "output_type": "display_data"
    }
   ],
   "source": [
    "top_country.plot(kind='bar',title='The top 5 Countries with Reservation',ylabel='Numbers of Reservations')\n",
    "fig = plt.figure(figsize = (10, 5))"
   ]
  },
  {
   "cell_type": "code",
   "execution_count": 244,
   "id": "c6ce427e",
   "metadata": {},
   "outputs": [
    {
     "data": {
      "text/plain": [
       "country\n",
       "PRT    27519\n",
       "GBR     2453\n",
       "ESP     2177\n",
       "FRA     1934\n",
       "DEU     1218\n",
       "Name: is_canceled, dtype: int64"
      ]
     },
     "execution_count": 244,
     "metadata": {},
     "output_type": "execute_result"
    }
   ],
   "source": [
    "top5.groupby('country')['is_canceled'].sum().sort_values(ascending=False)"
   ]
  },
  {
   "cell_type": "code",
   "execution_count": 245,
   "id": "a5b7909e",
   "metadata": {},
   "outputs": [
    {
     "name": "stdout",
     "output_type": "stream",
     "text": [
      "Cancelation rate in Portugal: 0.57\n",
      "Cancelation rate in England: 0.2\n",
      "Cancelation rate in France: 0.19\n",
      "Cancelation rate in Spain: 0.25\n",
      "Cancelation rate in Germany: 0.17\n"
     ]
    }
   ],
   "source": [
    "print('Cancelation rate in Portugal: ' + str(round(27519/48590,2)))\n",
    "print('Cancelation rate in England: ' + str(round(2453/12129,2)))\n",
    "print('Cancelation rate in France: ' + str(round(1934/10415,2)))\n",
    "print('Cancelation rate in Spain: ' + str(round(2177/8568,2)))\n",
    "print('Cancelation rate in Germany: ' + str(round(1218/7287,2)))"
   ]
  },
  {
   "cell_type": "markdown",
   "id": "bf6fe4fe",
   "metadata": {},
   "source": [
    "# Portugal has higher cancelation rate (57%) than overall (37%) countries while other top 4 has lower rates than overall rate (37%)"
   ]
  },
  {
   "cell_type": "code",
   "execution_count": 246,
   "id": "be383ba6",
   "metadata": {},
   "outputs": [
    {
     "data": {
      "image/png": "[encoded data removed]",
      "text/plain": [
       "<Figure size 720x360 with 1 Axes>"
      ]
     },
     "metadata": {},
     "output_type": "display_data"
    }
   ],
   "source": [
    "x=['Portugal','England','France','Spain','Germany']\n",
    "y=[0.57,0.2,0.19,0.25,0.17]\n",
    "fig = plt.figure(figsize = (10, 5))\n",
    " \n",
    "plt.bar(x, y, color ='maroon',\n",
    "        width = 0.4)\n",
    "plt.title('Cancelation Rate by Top 5 Country')\n",
    "plt.xlabel('The Top 5 Country')\n",
    "plt.ylabel('Percentage')\n",
    "plt.show()"
   ]
  },
  {
   "cell_type": "markdown",
   "id": "8797c0e2",
   "metadata": {},
   "source": [
    "# Let's check average hotel rates"
   ]
  },
  {
   "cell_type": "code",
   "execution_count": 403,
   "id": "67a5eaa8",
   "metadata": {},
   "outputs": [
    {
     "name": "stdout",
     "output_type": "stream",
     "text": [
      "Average Rome Rate : 101.83112153446453\n"
     ]
    }
   ],
   "source": [
    "print('Average Room Rate : '+str(df['adr'].mean()))"
   ]
  },
  {
   "cell_type": "code",
   "execution_count": 405,
   "id": "856bc183",
   "metadata": {},
   "outputs": [
    {
     "name": "stdout",
     "output_type": "stream",
     "text": [
      "Average Room Rate when Reservation Canceled : 104.96433316750777\n"
     ]
    }
   ],
   "source": [
    "print('Average Room Rate when Reservation Canceled : '+str(con1['adr'].mean()))"
   ]
  },
  {
   "cell_type": "code",
   "execution_count": 406,
   "id": "f8f0fc6e",
   "metadata": {},
   "outputs": [
    {
     "name": "stderr",
     "output_type": "stream",
     "text": [
      "C:\\Users\\gulsevgi\\AppData\\Local\\Temp/ipykernel_3584/4187714461.py:6: FutureWarning: Automatic reindexing on DataFrame vs Series comparisons is deprecated and will raise ValueError in a future version.  Do `left, right = left.align(right, axis=1, copy=False)` before e.g. `left == right`\n",
      "  Outliers=df[((df<lower_limit) | (df>upper_limit)).any(axis=1)]\n"
     ]
    }
   ],
   "source": [
    "Q1=df.quantile(.25)\n",
    "Q3=df.quantile(.75)\n",
    "IQR=Q3-Q1\n",
    "lower_limit=Q1-1.5*IQR\n",
    "upper_limit=Q3+1.5*IQR\n",
    "Outliers=df[((df<lower_limit) | (df>upper_limit)).any(axis=1)]"
   ]
  },
  {
   "cell_type": "markdown",
   "id": "877b2512",
   "metadata": {},
   "source": [
    "Removed outliers to have the better picture of distrubutions. "
   ]
  },
  {
   "cell_type": "code",
   "execution_count": 407,
   "id": "c6578719",
   "metadata": {},
   "outputs": [
    {
     "data": {
      "image/png": "[encoded data removed]",
      "text/plain": [
       "<Figure size 1440x360 with 1 Axes>"
      ]
     },
     "metadata": {},
     "output_type": "display_data"
    },
    {
     "data": {
      "text/plain": [
       "<Figure size 360x360 with 0 Axes>"
      ]
     },
     "metadata": {},
     "output_type": "display_data"
    }
   ],
   "source": [
    "sns.boxplot(x='is_canceled', y='adr',data=no_outliers)\n",
    "plt.title('Daily Hotel Rate for Canceled Reservation')\n",
    "plt.xlabel('Canceled Reservation')\n",
    "plt.ylabel('Average Daily Hotel Rate')\n",
    "fig = plt.figure(figsize = (5, 5))\n",
    "plt.show()"
   ]
  },
  {
   "cell_type": "markdown",
   "id": "8ad439b1",
   "metadata": {},
   "source": [
    "Canceled reservation has little bit more daily room rate than not canceled ones. "
   ]
  },
  {
   "cell_type": "markdown",
   "id": "5d03113d",
   "metadata": {},
   "source": [
    "# Logistic Regression"
   ]
  },
  {
   "cell_type": "markdown",
   "id": "1cadea9c",
   "metadata": {},
   "source": [
    "The dataset has a lot of binary(0 and 1 or Yes/No type of data) variables. So logistic regression would be better to predict the reservation cancelation for the given variables. "
   ]
  },
  {
   "cell_type": "code",
   "execution_count": 254,
   "id": "21edff4b",
   "metadata": {},
   "outputs": [
    {
     "name": "stdout",
     "output_type": "stream",
     "text": [
      "<class 'pandas.core.frame.DataFrame'>\n",
      "RangeIndex: 119390 entries, 0 to 119389\n",
      "Data columns (total 32 columns):\n",
      " #   Column                          Non-Null Count   Dtype  \n",
      "---  ------                          --------------   -----  \n",
      " 0   hotel                           119390 non-null  object \n",
      " 1   is_canceled                     119390 non-null  int64  \n",
      " 2   lead_time                       119390 non-null  int64  \n",
      " 3   arrival_date_year               119390 non-null  int64  \n",
      " 4   arrival_date_month              119390 non-null  object \n",
      " 5   arrival_date_week_number        119390 non-null  int64  \n",
      " 6   arrival_date_day_of_month       119390 non-null  int64  \n",
      " 7   stays_in_weekend_nights         119390 non-null  int64  \n",
      " 8   stays_in_week_nights            119390 non-null  int64  \n",
      " 9   adults                          119390 non-null  int64  \n",
      " 10  children                        119386 non-null  float64\n",
      " 11  babies                          119390 non-null  int64  \n",
      " 12  meal                            119390 non-null  object \n",
      " 13  country                         118902 non-null  object \n",
      " 14  market_segment                  119390 non-null  object \n",
      " 15  distribution_channel            119390 non-null  object \n",
      " 16  is_repeated_guest               119390 non-null  int64  \n",
      " 17  previous_cancellations          119390 non-null  int64  \n",
      " 18  previous_bookings_not_canceled  119390 non-null  int64  \n",
      " 19  reserved_room_type              119390 non-null  object \n",
      " 20  assigned_room_type              119390 non-null  object \n",
      " 21  booking_changes                 119390 non-null  int64  \n",
      " 22  deposit_type                    119390 non-null  object \n",
      " 23  agent                           103050 non-null  float64\n",
      " 24  company                         6797 non-null    float64\n",
      " 25  days_in_waiting_list            119390 non-null  int64  \n",
      " 26  customer_type                   119390 non-null  object \n",
      " 27  adr                             119390 non-null  float64\n",
      " 28  required_car_parking_spaces     119390 non-null  int64  \n",
      " 29  total_of_special_requests       119390 non-null  int64  \n",
      " 30  reservation_status              119390 non-null  object \n",
      " 31  reservation_status_date         119390 non-null  object \n",
      "dtypes: float64(4), int64(16), object(12)\n",
      "memory usage: 29.1+ MB\n"
     ]
    },
    {
     "data": {
      "text/plain": [
       "(119390, 32)"
      ]
     },
     "execution_count": 254,
     "metadata": {},
     "output_type": "execute_result"
    }
   ],
   "source": [
    "df.info()\n",
    "df.shape"
   ]
  },
  {
   "cell_type": "markdown",
   "id": "f194efaa",
   "metadata": {},
   "source": [
    "I need to drop some columns which are unrelavent and drop the missing rows."
   ]
  },
  {
   "cell_type": "code",
   "execution_count": 273,
   "id": "f1790353",
   "metadata": {},
   "outputs": [
    {
     "data": {
      "text/plain": [
       "((119390, 21), (119386, 21))"
      ]
     },
     "execution_count": 273,
     "metadata": {},
     "output_type": "execute_result"
    }
   ],
   "source": [
    "df_reg=df.drop(['meal', 'country','market_segment','distribution_channel','reserved_room_type','assigned_room_type','booking_changes','agent','company','days_in_waiting_list','reservation_status_date'], axis=1)\n",
    "df_reg2=df_reg.dropna()\n",
    "df_reg.shape , df_reg2.shape"
   ]
  },
  {
   "cell_type": "code",
   "execution_count": 274,
   "id": "26c6484f",
   "metadata": {},
   "outputs": [
    {
     "data": {
      "text/plain": [
       "hotel                              object\n",
       "is_canceled                         int64\n",
       "lead_time                           int64\n",
       "arrival_date_year                   int64\n",
       "arrival_date_month                 object\n",
       "arrival_date_week_number            int64\n",
       "arrival_date_day_of_month           int64\n",
       "stays_in_weekend_nights             int64\n",
       "stays_in_week_nights                int64\n",
       "adults                              int64\n",
       "children                          float64\n",
       "babies                              int64\n",
       "is_repeated_guest                   int64\n",
       "previous_cancellations              int64\n",
       "previous_bookings_not_canceled      int64\n",
       "deposit_type                       object\n",
       "customer_type                      object\n",
       "adr                               float64\n",
       "required_car_parking_spaces         int64\n",
       "total_of_special_requests           int64\n",
       "reservation_status                 object\n",
       "dtype: object"
      ]
     },
     "execution_count": 274,
     "metadata": {},
     "output_type": "execute_result"
    }
   ],
   "source": [
    "df_reg2.dtypes"
   ]
  },
  {
   "cell_type": "code",
   "execution_count": null,
   "id": "efaba2ae",
   "metadata": {},
   "outputs": [],
   "source": [
    "These columns will be the variables"
   ]
  },
  {
   "cell_type": "markdown",
   "id": "848d04a5",
   "metadata": {},
   "source": [
    "Create dummy variables\n",
    "That is variables with only two values, zero and one."
   ]
  },
  {
   "cell_type": "code",
   "execution_count": 275,
   "id": "7f9adb23",
   "metadata": {},
   "outputs": [],
   "source": [
    "cat_vars=['hotel','arrival_date_month','deposit_type','customer_type','reservation_status']\n",
    "for var in cat_vars:\n",
    "    cat_list='var'+'_'+var\n",
    "    cat_list = pd.get_dummies(df_reg2[var], prefix=var)\n",
    "    data1=df_reg2.join(cat_list)\n",
    "    df_reg2=data1\n",
    "cat_vars=['hotel','arrival_date_month','deposit_type','customer_type','reservation_status']\n",
    "data_vars=df_reg2.columns.values.tolist()\n",
    "to_keep=[i for i in data_vars if i not in cat_vars]"
   ]
  },
  {
   "cell_type": "markdown",
   "id": "9efcbe70",
   "metadata": {},
   "source": [
    "My final data columns will be:"
   ]
  },
  {
   "cell_type": "code",
   "execution_count": 276,
   "id": "ebd376a2",
   "metadata": {},
   "outputs": [
    {
     "data": {
      "text/plain": [
       "array(['is_canceled', 'lead_time', 'arrival_date_year',\n",
       "       'arrival_date_week_number', 'arrival_date_day_of_month',\n",
       "       'stays_in_weekend_nights', 'stays_in_week_nights', 'adults',\n",
       "       'children', 'babies', 'is_repeated_guest',\n",
       "       'previous_cancellations', 'previous_bookings_not_canceled', 'adr',\n",
       "       'required_car_parking_spaces', 'total_of_special_requests',\n",
       "       'hotel_City Hotel', 'hotel_Resort Hotel',\n",
       "       'arrival_date_month_April', 'arrival_date_month_August',\n",
       "       'arrival_date_month_December', 'arrival_date_month_February',\n",
       "       'arrival_date_month_January', 'arrival_date_month_July',\n",
       "       'arrival_date_month_June', 'arrival_date_month_March',\n",
       "       'arrival_date_month_May', 'arrival_date_month_November',\n",
       "       'arrival_date_month_October', 'arrival_date_month_September',\n",
       "       'deposit_type_No Deposit', 'deposit_type_Non Refund',\n",
       "       'deposit_type_Refundable', 'customer_type_Contract',\n",
       "       'customer_type_Group', 'customer_type_Transient',\n",
       "       'customer_type_Transient-Party', 'reservation_status_Canceled',\n",
       "       'reservation_status_Check-Out', 'reservation_status_No-Show'],\n",
       "      dtype=object)"
      ]
     },
     "execution_count": 276,
     "metadata": {},
     "output_type": "execute_result"
    }
   ],
   "source": [
    "data_final=df_reg2[to_keep]\n",
    "data_final.columns.values"
   ]
  },
  {
   "cell_type": "code",
   "execution_count": 277,
   "id": "a7f83145",
   "metadata": {},
   "outputs": [],
   "source": [
    "#start !pip install -U imbalanced-learn "
   ]
  },
  {
   "cell_type": "markdown",
   "id": "ccdc213e",
   "metadata": {},
   "source": [
    "Over-sampling using SMOTE\n",
    "With my training data created, I’ll up-sample the is_canceled using the SMOTE algorithm(Synthetic Minority Oversampling Technique). At a high level, SMOTE:\n",
    "\n",
    "Works by creating synthetic samples from the minor class (is_canceled) instead of creating copies.\n",
    "Randomly choosing one of the k-nearest-neighbors and using it to create a similar, but randomly tweaked, new observations.\n",
    "We are going to implement SMOTE in Python."
   ]
  },
  {
   "cell_type": "code",
   "execution_count": 278,
   "id": "b33aec9b",
   "metadata": {},
   "outputs": [
    {
     "name": "stdout",
     "output_type": "stream",
     "text": [
      "length of oversampled data is  105514\n",
      "Number of not canceled in oversampled data 52757\n",
      "Number of subscription 52757\n",
      "Proportion of not canceled data in oversampled data is  0.5\n",
      "Proportion of canceled data in oversampled data is  0.5\n"
     ]
    }
   ],
   "source": [
    "X = data_final.loc[:, data_final.columns != 'is_canceled']\n",
    "y = data_final.loc[:, data_final.columns == 'is_canceled']\n",
    "\n",
    "from collections import Counter\n",
    "from sklearn.datasets import make_classification\n",
    "from imblearn.over_sampling import SMOTE \n",
    "from sklearn import preprocessing\n",
    "from sklearn.linear_model import LogisticRegression\n",
    "from sklearn.model_selection import train_test_split\n",
    "from imblearn.over_sampling import SMOTE\n",
    "\n",
    "os = SMOTE(random_state=0)\n",
    "X_train, X_test, y_train, y_test = train_test_split(X, y, test_size=0.3, random_state=0)\n",
    "columns = X_train.columns\n",
    "os_data_X,os_data_y=os.fit_resample(X_train, y_train)\n",
    "os_data_X = pd.DataFrame(data=os_data_X,columns=columns )\n",
    "os_data_y= pd.DataFrame(data=os_data_y,columns=['is_canceled'])\n",
    "# we can Check the numbers of our data\n",
    "print(\"length of oversampled data is \",len(os_data_X))\n",
    "print(\"Number of not canceled in oversampled data\",len(os_data_y[os_data_y['is_canceled']==0]))\n",
    "print(\"Number of subscription\",len(os_data_y[os_data_y['is_canceled']==1]))\n",
    "print(\"Proportion of not canceled data in oversampled data is \",len(os_data_y[os_data_y['is_canceled']==0])/len(os_data_X))\n",
    "print(\"Proportion of canceled data in oversampled data is \",len(os_data_y[os_data_y['is_canceled']==1])/len(os_data_X))"
   ]
  },
  {
   "cell_type": "code",
   "execution_count": null,
   "id": "fb300089",
   "metadata": {},
   "outputs": [],
   "source": [
    "Now we have a perfect balanced data"
   ]
  },
  {
   "cell_type": "markdown",
   "id": "6320cf32",
   "metadata": {},
   "source": [
    "Recursive Feature Elimination\n",
    "Recursive Feature Elimination (RFE) is based on the idea to repeatedly construct a model and choose either the best or worst performing feature, setting the feature aside and then repeating the process with the rest of the features. This process is applied until all features in the dataset are exhausted. The goal of RFE is to select features by recursively considering smaller and smaller sets of features."
   ]
  },
  {
   "cell_type": "code",
   "execution_count": 281,
   "id": "0b041650",
   "metadata": {},
   "outputs": [
    {
     "name": "stderr",
     "output_type": "stream",
     "text": [
      "C:\\Users\\gulsevgi\\anaconda3\\lib\\site-packages\\sklearn\\linear_model\\_logistic.py:444: ConvergenceWarning: lbfgs failed to converge (status=1):\n",
      "STOP: TOTAL NO. of ITERATIONS REACHED LIMIT.\n",
      "\n",
      "Increase the number of iterations (max_iter) or scale the data as shown in:\n",
      "    https://scikit-learn.org/stable/modules/preprocessing.html\n",
      "Please also refer to the documentation for alternative solver options:\n",
      "    https://scikit-learn.org/stable/modules/linear_model.html#logistic-regression\n",
      "  n_iter_i = _check_optimize_result(\n",
      "C:\\Users\\gulsevgi\\anaconda3\\lib\\site-packages\\sklearn\\linear_model\\_logistic.py:444: ConvergenceWarning: lbfgs failed to converge (status=1):\n",
      "STOP: TOTAL NO. of ITERATIONS REACHED LIMIT.\n",
      "\n",
      "Increase the number of iterations (max_iter) or scale the data as shown in:\n",
      "    https://scikit-learn.org/stable/modules/preprocessing.html\n",
      "Please also refer to the documentation for alternative solver options:\n",
      "    https://scikit-learn.org/stable/modules/linear_model.html#logistic-regression\n",
      "  n_iter_i = _check_optimize_result(\n",
      "C:\\Users\\gulsevgi\\anaconda3\\lib\\site-packages\\sklearn\\linear_model\\_logistic.py:444: ConvergenceWarning: lbfgs failed to converge (status=1):\n",
      "STOP: TOTAL NO. of ITERATIONS REACHED LIMIT.\n",
      "\n",
      "Increase the number of iterations (max_iter) or scale the data as shown in:\n",
      "    https://scikit-learn.org/stable/modules/preprocessing.html\n",
      "Please also refer to the documentation for alternative solver options:\n",
      "    https://scikit-learn.org/stable/modules/linear_model.html#logistic-regression\n",
      "  n_iter_i = _check_optimize_result(\n",
      "C:\\Users\\gulsevgi\\anaconda3\\lib\\site-packages\\sklearn\\linear_model\\_logistic.py:444: ConvergenceWarning: lbfgs failed to converge (status=1):\n",
      "STOP: TOTAL NO. of ITERATIONS REACHED LIMIT.\n",
      "\n",
      "Increase the number of iterations (max_iter) or scale the data as shown in:\n",
      "    https://scikit-learn.org/stable/modules/preprocessing.html\n",
      "Please also refer to the documentation for alternative solver options:\n",
      "    https://scikit-learn.org/stable/modules/linear_model.html#logistic-regression\n",
      "  n_iter_i = _check_optimize_result(\n",
      "C:\\Users\\gulsevgi\\anaconda3\\lib\\site-packages\\sklearn\\linear_model\\_logistic.py:444: ConvergenceWarning: lbfgs failed to converge (status=1):\n",
      "STOP: TOTAL NO. of ITERATIONS REACHED LIMIT.\n",
      "\n",
      "Increase the number of iterations (max_iter) or scale the data as shown in:\n",
      "    https://scikit-learn.org/stable/modules/preprocessing.html\n",
      "Please also refer to the documentation for alternative solver options:\n",
      "    https://scikit-learn.org/stable/modules/linear_model.html#logistic-regression\n",
      "  n_iter_i = _check_optimize_result(\n",
      "C:\\Users\\gulsevgi\\anaconda3\\lib\\site-packages\\sklearn\\linear_model\\_logistic.py:444: ConvergenceWarning: lbfgs failed to converge (status=1):\n",
      "STOP: TOTAL NO. of ITERATIONS REACHED LIMIT.\n",
      "\n",
      "Increase the number of iterations (max_iter) or scale the data as shown in:\n",
      "    https://scikit-learn.org/stable/modules/preprocessing.html\n",
      "Please also refer to the documentation for alternative solver options:\n",
      "    https://scikit-learn.org/stable/modules/linear_model.html#logistic-regression\n",
      "  n_iter_i = _check_optimize_result(\n",
      "C:\\Users\\gulsevgi\\anaconda3\\lib\\site-packages\\sklearn\\linear_model\\_logistic.py:444: ConvergenceWarning: lbfgs failed to converge (status=1):\n",
      "STOP: TOTAL NO. of ITERATIONS REACHED LIMIT.\n",
      "\n",
      "Increase the number of iterations (max_iter) or scale the data as shown in:\n",
      "    https://scikit-learn.org/stable/modules/preprocessing.html\n",
      "Please also refer to the documentation for alternative solver options:\n",
      "    https://scikit-learn.org/stable/modules/linear_model.html#logistic-regression\n",
      "  n_iter_i = _check_optimize_result(\n",
      "C:\\Users\\gulsevgi\\anaconda3\\lib\\site-packages\\sklearn\\linear_model\\_logistic.py:444: ConvergenceWarning: lbfgs failed to converge (status=1):\n",
      "STOP: TOTAL NO. of ITERATIONS REACHED LIMIT.\n",
      "\n",
      "Increase the number of iterations (max_iter) or scale the data as shown in:\n",
      "    https://scikit-learn.org/stable/modules/preprocessing.html\n",
      "Please also refer to the documentation for alternative solver options:\n",
      "    https://scikit-learn.org/stable/modules/linear_model.html#logistic-regression\n",
      "  n_iter_i = _check_optimize_result(\n"
     ]
    },
    {
     "name": "stdout",
     "output_type": "stream",
     "text": [
      "[False False False False False False False False False  True False False\n",
      " False  True  True  True  True  True  True False False False  True  True\n",
      " False  True False  True  True  True  True False  True False False  True\n",
      "  True  True  True]\n",
      "[21 20 15 14 13 16  8 10 12  1  4  7 19  1  1  1  1  1  1  2  9  5  1  1\n",
      " 18  1  3  1  1  1  1 17  1 11  6  1  1  1  1]\n"
     ]
    }
   ],
   "source": [
    "data_final_vars=data_final.columns.values.tolist()\n",
    "y=['is_canceled']\n",
    "X=[i for i in data_final_vars if i not in y]\n",
    "from sklearn.feature_selection import RFE\n",
    "from sklearn.linear_model import LogisticRegression\n",
    "logreg = LogisticRegression()\n",
    "rfe = RFE(logreg)\n",
    "rfe = rfe.fit(os_data_X, os_data_y.values.ravel())\n",
    "print(rfe.support_)\n",
    "print(rfe.ranking_)"
   ]
  },
  {
   "cell_type": "markdown",
   "id": "3eb2db6c",
   "metadata": {},
   "source": [
    "The process above(RFE) helped to select the following variables for the model"
   ]
  },
  {
   "cell_type": "code",
   "execution_count": 322,
   "id": "fc1e848c",
   "metadata": {},
   "outputs": [],
   "source": [
    "cols=['is_repeated_guest','required_car_parking_spaces', 'total_of_special_requests','hotel_City Hotel', 'hotel_Resort Hotel',\n",
    "       'arrival_date_month_April', 'arrival_date_month_August',\n",
    "       'arrival_date_month_July',\n",
    "       'arrival_date_month_June',\n",
    "       'arrival_date_month_May', \n",
    "       'arrival_date_month_October', 'arrival_date_month_September',\n",
    "       'deposit_type_No Deposit', 'deposit_type_Non Refund',\n",
    "        'customer_type_Contract',\n",
    "       'customer_type_Transient-Party', 'reservation_status_Canceled'] \n",
    "X=os_data_X[cols]\n",
    "y=os_data_y['is_canceled']"
   ]
  },
  {
   "cell_type": "code",
   "execution_count": 323,
   "id": "943bad31",
   "metadata": {},
   "outputs": [
    {
     "name": "stdout",
     "output_type": "stream",
     "text": [
      "Warning: Maximum number of iterations has been exceeded.\n",
      "         Current function value: 0.061621\n",
      "         Iterations: 35\n",
      "                                   Results: Logit\n",
      "=====================================================================================\n",
      "Model:                      Logit                  Pseudo R-squared:       0.911     \n",
      "Dependent Variable:         is_canceled            AIC:                    13037.6937\n",
      "Date:                       2022-05-23 20:46       BIC:                    13200.3259\n",
      "No. Observations:           105514                 Log-Likelihood:         -6501.8   \n",
      "Df Model:                   16                     LL-Null:                -73137.   \n",
      "Df Residuals:               105497                 LLR p-value:            0.0000    \n",
      "Converged:                  0.0000                 Scale:                  1.0000    \n",
      "No. Iterations:             35.0000                                                  \n",
      "-------------------------------------------------------------------------------------\n",
      "                               Coef.    Std.Err.    z     P>|z|    [0.025     0.975] \n",
      "-------------------------------------------------------------------------------------\n",
      "is_repeated_guest              -0.7622    0.1697  -4.4911 0.0000    -1.0948   -0.4296\n",
      "required_car_parking_spaces   -19.1430 1283.9561  -0.0149 0.9881 -2535.6506 2497.3647\n",
      "total_of_special_requests      -0.5733    0.0401 -14.2897 0.0000    -0.6519   -0.4947\n",
      "hotel_City Hotel               -4.4350    0.2037 -21.7700 0.0000    -4.8343   -4.0357\n",
      "hotel_Resort Hotel             -5.2960    0.2097 -25.2591 0.0000    -5.7069   -4.8850\n",
      "arrival_date_month_April       -0.9126    0.1099  -8.3067 0.0000    -1.1279   -0.6973\n",
      "arrival_date_month_August      -0.9660    0.1024  -9.4307 0.0000    -1.1668   -0.7652\n",
      "arrival_date_month_July        -0.9482    0.1044  -9.0844 0.0000    -1.1528   -0.7436\n",
      "arrival_date_month_June        -1.0103    0.1140  -8.8616 0.0000    -1.2337   -0.7868\n",
      "arrival_date_month_May         -0.7975    0.0997  -7.9997 0.0000    -0.9929   -0.6021\n",
      "arrival_date_month_October     -1.1021    0.1217  -9.0538 0.0000    -1.3407   -0.8635\n",
      "arrival_date_month_September   -1.0026    0.1212  -8.2731 0.0000    -1.2401   -0.7650\n",
      "deposit_type_No Deposit         2.3187    0.2028  11.4309 0.0000     1.9212    2.7163\n",
      "deposit_type_Non Refund         5.4760    0.3094  17.6980 0.0000     4.8696    6.0825\n",
      "customer_type_Contract         -0.7728    0.2291  -3.3726 0.0007    -1.2220   -0.3237\n",
      "customer_type_Transient-Party  -0.9708    0.0747 -12.9954 0.0000    -1.1173   -0.8244\n",
      "reservation_status_Canceled    22.5905   65.9925   0.3423 0.7321  -106.7524  151.9334\n",
      "=====================================================================================\n",
      "\n"
     ]
    },
    {
     "name": "stderr",
     "output_type": "stream",
     "text": [
      "C:\\Users\\gulsevgi\\anaconda3\\lib\\site-packages\\statsmodels\\base\\model.py:566: ConvergenceWarning: Maximum Likelihood optimization failed to converge. Check mle_retvals\n",
      "  warnings.warn(\"Maximum Likelihood optimization failed to \"\n"
     ]
    }
   ],
   "source": [
    "import statsmodels.api as sm\n",
    "logit_model=sm.Logit(y,X)\n",
    "result=logit_model.fit()\n",
    "print(result.summary2())"
   ]
  },
  {
   "cell_type": "markdown",
   "id": "1c2fb064",
   "metadata": {},
   "source": [
    "There are some variables with p values greater than 0.05 so I will take them out."
   ]
  },
  {
   "cell_type": "code",
   "execution_count": 341,
   "id": "5f84d6f8",
   "metadata": {},
   "outputs": [
    {
     "name": "stdout",
     "output_type": "stream",
     "text": [
      "Optimization terminated successfully.\n",
      "         Current function value: 0.522479\n",
      "         Iterations 10\n",
      "                                Results: Logit\n",
      "==============================================================================\n",
      "Model:                  Logit                Pseudo R-squared:     0.246      \n",
      "Dependent Variable:     is_canceled          AIC:                  110281.6404\n",
      "Date:                   2022-05-25 20:18     BIC:                  110396.4396\n",
      "No. Observations:       105514               Log-Likelihood:       -55129.    \n",
      "Df Model:               11                   LL-Null:              -73137.    \n",
      "Df Residuals:           105502               LLR p-value:          0.0000     \n",
      "Converged:              1.0000               Scale:                1.0000     \n",
      "No. Iterations:         10.0000                                               \n",
      "------------------------------------------------------------------------------\n",
      "                               Coef.  Std.Err.    z     P>|z|   [0.025  0.975]\n",
      "------------------------------------------------------------------------------\n",
      "is_repeated_guest             -1.1633   0.0514 -22.6495 0.0000 -1.2640 -1.0627\n",
      "total_of_special_requests     -0.6395   0.0106 -60.1119 0.0000 -0.6604 -0.6187\n",
      "hotel_City Hotel              -1.4739   0.0451 -32.6912 0.0000 -1.5623 -1.3856\n",
      "hotel_Resort Hotel            -1.9064   0.0461 -41.3681 0.0000 -1.9967 -1.8160\n",
      "arrival_date_month_August      0.2307   0.0226  10.2183 0.0000  0.1864  0.2749\n",
      "arrival_date_month_July        0.1710   0.0236   7.2337 0.0000  0.1247  0.2174\n",
      "arrival_date_month_October    -0.0773   0.0272  -2.8484 0.0044 -0.1306 -0.0241\n",
      "arrival_date_month_September  -0.2040   0.0290  -7.0278 0.0000 -0.2609 -0.1471\n",
      "deposit_type_No Deposit        1.6719   0.0446  37.5278 0.0000  1.5846  1.7592\n",
      "deposit_type_Non Refund        7.1652   0.1272  56.3303 0.0000  6.9159  7.4145\n",
      "customer_type_Contract        -0.6750   0.0476 -14.1919 0.0000 -0.7682 -0.5817\n",
      "customer_type_Transient-Party -0.7058   0.0188 -37.5797 0.0000 -0.7426 -0.6690\n",
      "==============================================================================\n",
      "\n"
     ]
    }
   ],
   "source": [
    "cols=['is_repeated_guest', 'total_of_special_requests','hotel_City Hotel', 'hotel_Resort Hotel',\n",
    "        'arrival_date_month_August',\n",
    "       'arrival_date_month_July',\n",
    "       'arrival_date_month_October', 'arrival_date_month_September',\n",
    "       'deposit_type_No Deposit', 'deposit_type_Non Refund',\n",
    "        'customer_type_Contract',\n",
    "       'customer_type_Transient-Party'] \n",
    "X=os_data_X[cols]\n",
    "y=os_data_y['is_canceled']\n",
    "import statsmodels.api as sm\n",
    "logit_model=sm.Logit(y,X)\n",
    "result=logit_model.fit()\n",
    "print(result.summary2())"
   ]
  },
  {
   "cell_type": "markdown",
   "id": "5170109c",
   "metadata": {},
   "source": [
    "So now, I have variables with god p-values"
   ]
  },
  {
   "cell_type": "code",
   "execution_count": 342,
   "id": "2268baac",
   "metadata": {},
   "outputs": [
    {
     "data": {
      "text/html": [
       "<style>#sk-container-id-4 {color: black;background-color: white;}#sk-container-id-4 pre{padding: 0;}#sk-container-id-4 div.sk-toggleable {background-color: white;}#sk-container-id-4 label.sk-toggleable__label {cursor: pointer;display: block;width: 100%;margin-bottom: 0;padding: 0.3em;box-sizing: border-box;text-align: center;}#sk-container-id-4 label.sk-toggleable__label-arrow:before {content: \"▸\";float: left;margin-right: 0.25em;color: #696969;}#sk-container-id-4 label.sk-toggleable__label-arrow:hover:before {color: black;}#sk-container-id-4 div.sk-estimator:hover label.sk-toggleable__label-arrow:before {color: black;}#sk-container-id-4 div.sk-toggleable__content {max-height: 0;max-width: 0;overflow: hidden;text-align: left;background-color: #f0f8ff;}#sk-container-id-4 div.sk-toggleable__content pre {margin: 0.2em;color: black;border-radius: 0.25em;background-color: #f0f8ff;}#sk-container-id-4 input.sk-toggleable__control:checked~div.sk-toggleable__content {max-height: 200px;max-width: 100%;overflow: auto;}#sk-container-id-4 input.sk-toggleable__control:checked~label.sk-toggleable__label-arrow:before {content: \"▾\";}#sk-container-id-4 div.sk-estimator input.sk-toggleable__control:checked~label.sk-toggleable__label {background-color: #d4ebff;}#sk-container-id-4 div.sk-label input.sk-toggleable__control:checked~label.sk-toggleable__label {background-color: #d4ebff;}#sk-container-id-4 input.sk-hidden--visually {border: 0;clip: rect(1px 1px 1px 1px);clip: rect(1px, 1px, 1px, 1px);height: 1px;margin: -1px;overflow: hidden;padding: 0;position: absolute;width: 1px;}#sk-container-id-4 div.sk-estimator {font-family: monospace;background-color: #f0f8ff;border: 1px dotted black;border-radius: 0.25em;box-sizing: border-box;margin-bottom: 0.5em;}#sk-container-id-4 div.sk-estimator:hover {background-color: #d4ebff;}#sk-container-id-4 div.sk-parallel-item::after {content: \"\";width: 100%;border-bottom: 1px solid gray;flex-grow: 1;}#sk-container-id-4 div.sk-label:hover label.sk-toggleable__label {background-color: #d4ebff;}#sk-container-id-4 div.sk-serial::before {content: \"\";position: absolute;border-left: 1px solid gray;box-sizing: border-box;top: 0;bottom: 0;left: 50%;z-index: 0;}#sk-container-id-4 div.sk-serial {display: flex;flex-direction: column;align-items: center;background-color: white;padding-right: 0.2em;padding-left: 0.2em;position: relative;}#sk-container-id-4 div.sk-item {position: relative;z-index: 1;}#sk-container-id-4 div.sk-parallel {display: flex;align-items: stretch;justify-content: center;background-color: white;position: relative;}#sk-container-id-4 div.sk-item::before, #sk-container-id-4 div.sk-parallel-item::before {content: \"\";position: absolute;border-left: 1px solid gray;box-sizing: border-box;top: 0;bottom: 0;left: 50%;z-index: -1;}#sk-container-id-4 div.sk-parallel-item {display: flex;flex-direction: column;z-index: 1;position: relative;background-color: white;}#sk-container-id-4 div.sk-parallel-item:first-child::after {align-self: flex-end;width: 50%;}#sk-container-id-4 div.sk-parallel-item:last-child::after {align-self: flex-start;width: 50%;}#sk-container-id-4 div.sk-parallel-item:only-child::after {width: 0;}#sk-container-id-4 div.sk-dashed-wrapped {border: 1px dashed gray;margin: 0 0.4em 0.5em 0.4em;box-sizing: border-box;padding-bottom: 0.4em;background-color: white;}#sk-container-id-4 div.sk-label label {font-family: monospace;font-weight: bold;display: inline-block;line-height: 1.2em;}#sk-container-id-4 div.sk-label-container {text-align: center;}#sk-container-id-4 div.sk-container {/* jupyter's `normalize.less` sets `[hidden] { display: none; }` but bootstrap.min.css set `[hidden] { display: none !important; }` so we also need the `!important` here to be able to override the default hidden behavior on the sphinx rendered scikit-learn.org. See: https://github.com/scikit-learn/scikit-learn/issues/21755 */display: inline-block !important;position: relative;}#sk-container-id-4 div.sk-text-repr-fallback {display: none;}</style><div id=\"sk-container-id-4\" class=\"sk-top-container\"><div class=\"sk-text-repr-fallback\"><pre>LogisticRegression()</pre><b>In a Jupyter environment, please rerun this cell to show the HTML representation or trust the notebook. <br />On GitHub, the HTML representation is unable to render, please try loading this page with nbviewer.org.</b></div><div class=\"sk-container\" hidden><div class=\"sk-item\"><div class=\"sk-estimator sk-toggleable\"><input class=\"sk-toggleable__control sk-hidden--visually\" id=\"sk-estimator-id-4\" type=\"checkbox\" checked><label for=\"sk-estimator-id-4\" class=\"sk-toggleable__label sk-toggleable__label-arrow\">LogisticRegression</label><div class=\"sk-toggleable__content\"><pre>LogisticRegression()</pre></div></div></div></div></div>"
      ],
      "text/plain": [
       "LogisticRegression()"
      ]
     },
     "execution_count": 342,
     "metadata": {},
     "output_type": "execute_result"
    }
   ],
   "source": [
    "from sklearn.linear_model import LogisticRegression\n",
    "from sklearn import metrics\n",
    "X_train, X_test, y_train, y_test = train_test_split(X, y, test_size=0.3, random_state=0)\n",
    "logreg = LogisticRegression()\n",
    "logreg.fit(X_train, y_train)"
   ]
  },
  {
   "cell_type": "markdown",
   "id": "7e832fc6",
   "metadata": {},
   "source": [
    "Predicting the test set results and calculating the accuracy"
   ]
  },
  {
   "cell_type": "code",
   "execution_count": 343,
   "id": "ad58104c",
   "metadata": {},
   "outputs": [
    {
     "name": "stdout",
     "output_type": "stream",
     "text": [
      "Accuracy of logistic regression classifier on test set: 0.72\n"
     ]
    }
   ],
   "source": [
    "y_pred = logreg.predict(X_test)\n",
    "print('Accuracy of logistic regression classifier on test set: {:.2f}'.format(logreg.score(X_test, y_test)))\n"
   ]
  },
  {
   "cell_type": "markdown",
   "id": "3aea6efe",
   "metadata": {},
   "source": [
    "Confusion Matrix"
   ]
  },
  {
   "cell_type": "code",
   "execution_count": 344,
   "id": "76fd3335",
   "metadata": {},
   "outputs": [
    {
     "name": "stdout",
     "output_type": "stream",
     "text": [
      "[[13329  2448]\n",
      " [ 6346  9532]]\n"
     ]
    }
   ],
   "source": [
    "from sklearn.metrics import confusion_matrix\n",
    "confusion_matrix = confusion_matrix(y_test, y_pred)\n",
    "print(confusion_matrix)"
   ]
  },
  {
   "cell_type": "markdown",
   "id": "c6bf96fb",
   "metadata": {},
   "source": [
    "13329 + 9532 is correct predictions and 2448+6346 is incorrect predictions have made by the model. "
   ]
  },
  {
   "cell_type": "markdown",
   "id": "94ed0a01",
   "metadata": {},
   "source": [
    "Compute precision, recall, F-measure and support\n",
    "\n",
    "To quote from Scikit Learn:\n",
    "\n",
    "The precision is the ratio tp / (tp + fp) where tp is the number of true positives and fp the number of false positives. The precision is intuitively the ability of the classifier to not label a sample as positive if it is negative.\n",
    "\n",
    "The recall is the ratio tp / (tp + fn) where tp is the number of true positives and fn the number of false negatives. The recall is intuitively the ability of the classifier to find all the positive samples.\n",
    "\n",
    "The F-beta score can be interpreted as a weighted harmonic mean of the precision and recall, where an F-beta score reaches its best value at 1 and worst score at 0.\n",
    "\n",
    "The F-beta score weights the recall more than the precision by a factor of beta. beta = 1.0 means recall and precision are equally important.\n",
    "\n",
    "The support is the number of occurrences of each class in y_test."
   ]
  },
  {
   "cell_type": "code",
   "execution_count": 345,
   "id": "ed2d0e46",
   "metadata": {},
   "outputs": [
    {
     "name": "stdout",
     "output_type": "stream",
     "text": [
      "              precision    recall  f1-score   support\n",
      "\n",
      "           0       0.68      0.84      0.75     15777\n",
      "           1       0.80      0.60      0.68     15878\n",
      "\n",
      "    accuracy                           0.72     31655\n",
      "   macro avg       0.74      0.72      0.72     31655\n",
      "weighted avg       0.74      0.72      0.72     31655\n",
      "\n"
     ]
    }
   ],
   "source": [
    "from sklearn.metrics import classification_report\n",
    "print(classification_report(y_test, y_pred))"
   ]
  },
  {
   "cell_type": "markdown",
   "id": "fd9d2cdc",
   "metadata": {},
   "source": [
    "Interpretation: Of the whole test set, 72% of the prediction are accurate. The model predict the 72% of the customer will cancel or not calcel the reservations."
   ]
  },
  {
   "cell_type": "code",
   "execution_count": null,
   "id": "cf4158d7",
   "metadata": {},
   "outputs": [],
   "source": [
    "ROC Curve"
   ]
  },
  {
   "cell_type": "code",
   "execution_count": 346,
   "id": "2920a1f3",
   "metadata": {},
   "outputs": [
    {
     "data": {
      "image/png": "[encoded data removed]",
      "text/plain": [
       "<Figure size 1440x360 with 1 Axes>"
      ]
     },
     "metadata": {},
     "output_type": "display_data"
    }
   ],
   "source": [
    "from sklearn.metrics import roc_auc_score\n",
    "from sklearn.metrics import roc_curve\n",
    "logit_roc_auc = roc_auc_score(y_test, logreg.predict(X_test))\n",
    "fpr, tpr, thresholds = roc_curve(y_test, logreg.predict_proba(X_test)[:,1])\n",
    "plt.figure()\n",
    "plt.plot(fpr, tpr, label='Logistic Regression (area = %0.2f)' % logit_roc_auc)\n",
    "plt.plot([0, 1], [0, 1],'r--')\n",
    "plt.xlim([0.0, 1.0])\n",
    "plt.ylim([0.0, 1.05])\n",
    "plt.xlabel('False Positive Rate')\n",
    "plt.ylabel('True Positive Rate')\n",
    "plt.title('Receiver operating characteristic')\n",
    "plt.legend(loc=\"lower right\")\n",
    "plt.savefig('Log_ROC')\n",
    "plt.show()"
   ]
  },
  {
   "cell_type": "markdown",
   "id": "50c5b896",
   "metadata": {},
   "source": [
    "The receiver operating characteristic (ROC) curve is another common tool used with binary classifiers. The dotted line represents the ROC curve of a purely random classifier; a good classifier stays as far away from that line as possible (toward the top-left corner)."
   ]
  },
  {
   "cell_type": "markdown",
   "id": "9de1c42e",
   "metadata": {},
   "source": [
    "# linear regression"
   ]
  },
  {
   "cell_type": "markdown",
   "id": "a220d5d1",
   "metadata": {},
   "source": [
    "In the data set, I have some numerical variables and I will try linear regression with them."
   ]
  },
  {
   "cell_type": "code",
   "execution_count": 118,
   "id": "1fb94831",
   "metadata": {
    "scrolled": true
   },
   "outputs": [
    {
     "data": {
      "text/plain": [
       "<AxesSubplot:>"
      ]
     },
     "execution_count": 118,
     "metadata": {},
     "output_type": "execute_result"
    },
    {
     "data": {
      "image/png": "[encoded data removed]",
      "text/plain": [
       "<Figure size 1440x360 with 2 Axes>"
      ]
     },
     "metadata": {},
     "output_type": "display_data"
    }
   ],
   "source": [
    "sns.heatmap(heatmap1,annot=True)"
   ]
  },
  {
   "cell_type": "code",
   "execution_count": 117,
   "id": "4cbe7457",
   "metadata": {},
   "outputs": [
    {
     "name": "stdout",
     "output_type": "stream",
     "text": [
      "                                is_canceled  lead_time  arrival_date_year  \\\n",
      "is_canceled                            1.00       0.29               0.02   \n",
      "lead_time                              0.29       1.00               0.04   \n",
      "arrival_date_year                      0.02       0.04               1.00   \n",
      "arrival_date_week_number               0.01       0.13              -0.54   \n",
      "arrival_date_day_of_month             -0.01       0.00              -0.00   \n",
      "stays_in_weekend_nights               -0.00       0.09               0.02   \n",
      "stays_in_week_nights                   0.02       0.17               0.03   \n",
      "adults                                 0.06       0.12               0.03   \n",
      "children                               0.01      -0.04               0.05   \n",
      "babies                                -0.03      -0.02              -0.01   \n",
      "is_repeated_guest                     -0.08      -0.12               0.01   \n",
      "previous_cancellations                 0.11       0.09              -0.12   \n",
      "previous_bookings_not_canceled        -0.06      -0.07               0.03   \n",
      "booking_changes                       -0.14       0.00               0.03   \n",
      "agent                                 -0.08      -0.07               0.06   \n",
      "company                               -0.02       0.15               0.26   \n",
      "days_in_waiting_list                   0.05       0.17              -0.06   \n",
      "adr                                    0.05      -0.06               0.20   \n",
      "required_car_parking_spaces           -0.20      -0.12              -0.01   \n",
      "total_of_special_requests             -0.23      -0.10               0.11   \n",
      "\n",
      "                                arrival_date_week_number  \\\n",
      "is_canceled                                         0.01   \n",
      "lead_time                                           0.13   \n",
      "arrival_date_year                                  -0.54   \n",
      "arrival_date_week_number                            1.00   \n",
      "arrival_date_day_of_month                           0.07   \n",
      "stays_in_weekend_nights                             0.02   \n",
      "stays_in_week_nights                                0.02   \n",
      "adults                                              0.03   \n",
      "children                                            0.01   \n",
      "babies                                              0.01   \n",
      "is_repeated_guest                                  -0.03   \n",
      "previous_cancellations                              0.04   \n",
      "previous_bookings_not_canceled                     -0.02   \n",
      "booking_changes                                     0.01   \n",
      "agent                                              -0.03   \n",
      "company                                            -0.08   \n",
      "days_in_waiting_list                                0.02   \n",
      "adr                                                 0.08   \n",
      "required_car_parking_spaces                         0.00   \n",
      "total_of_special_requests                           0.03   \n",
      "\n",
      "                                arrival_date_day_of_month  \\\n",
      "is_canceled                                         -0.01   \n",
      "lead_time                                            0.00   \n",
      "arrival_date_year                                   -0.00   \n",
      "arrival_date_week_number                             0.07   \n",
      "arrival_date_day_of_month                            1.00   \n",
      "stays_in_weekend_nights                             -0.02   \n",
      "stays_in_week_nights                                -0.03   \n",
      "adults                                              -0.00   \n",
      "children                                             0.01   \n",
      "babies                                              -0.00   \n",
      "is_repeated_guest                                   -0.01   \n",
      "previous_cancellations                              -0.03   \n",
      "previous_bookings_not_canceled                      -0.00   \n",
      "booking_changes                                      0.01   \n",
      "agent                                                0.00   \n",
      "company                                              0.04   \n",
      "days_in_waiting_list                                 0.02   \n",
      "adr                                                  0.03   \n",
      "required_car_parking_spaces                          0.01   \n",
      "total_of_special_requests                            0.00   \n",
      "\n",
      "                                stays_in_weekend_nights  stays_in_week_nights  \\\n",
      "is_canceled                                       -0.00                  0.02   \n",
      "lead_time                                          0.09                  0.17   \n",
      "arrival_date_year                                  0.02                  0.03   \n",
      "arrival_date_week_number                           0.02                  0.02   \n",
      "arrival_date_day_of_month                         -0.02                 -0.03   \n",
      "stays_in_weekend_nights                            1.00                  0.50   \n",
      "stays_in_week_nights                               0.50                  1.00   \n",
      "adults                                             0.09                  0.09   \n",
      "children                                           0.05                  0.04   \n",
      "babies                                             0.02                  0.02   \n",
      "is_repeated_guest                                 -0.09                 -0.10   \n",
      "previous_cancellations                            -0.01                 -0.01   \n",
      "previous_bookings_not_canceled                    -0.04                 -0.05   \n",
      "booking_changes                                    0.06                  0.10   \n",
      "agent                                              0.14                  0.18   \n",
      "company                                            0.07                  0.18   \n",
      "days_in_waiting_list                              -0.05                 -0.00   \n",
      "adr                                                0.05                  0.07   \n",
      "required_car_parking_spaces                       -0.02                 -0.02   \n",
      "total_of_special_requests                          0.07                  0.07   \n",
      "\n",
      "                                adults  children  babies  is_repeated_guest  \\\n",
      "is_canceled                       0.06      0.01   -0.03              -0.08   \n",
      "lead_time                         0.12     -0.04   -0.02              -0.12   \n",
      "arrival_date_year                 0.03      0.05   -0.01               0.01   \n",
      "arrival_date_week_number          0.03      0.01    0.01              -0.03   \n",
      "arrival_date_day_of_month        -0.00      0.01   -0.00              -0.01   \n",
      "stays_in_weekend_nights           0.09      0.05    0.02              -0.09   \n",
      "stays_in_week_nights              0.09      0.04    0.02              -0.10   \n",
      "adults                            1.00      0.03    0.02              -0.15   \n",
      "children                          0.03      1.00    0.02              -0.03   \n",
      "babies                            0.02      0.02    1.00              -0.01   \n",
      "is_repeated_guest                -0.15     -0.03   -0.01               1.00   \n",
      "previous_cancellations           -0.01     -0.02   -0.01               0.08   \n",
      "previous_bookings_not_canceled   -0.11     -0.02   -0.01               0.42   \n",
      "booking_changes                  -0.05      0.05    0.08               0.01   \n",
      "agent                            -0.04      0.04    0.04               0.03   \n",
      "company                           0.21      0.03    0.02              -0.24   \n",
      "days_in_waiting_list             -0.01     -0.03   -0.01              -0.02   \n",
      "adr                               0.23      0.32    0.03              -0.13   \n",
      "required_car_parking_spaces       0.01      0.06    0.04               0.08   \n",
      "total_of_special_requests         0.12      0.08    0.10               0.01   \n",
      "\n",
      "                                previous_cancellations  \\\n",
      "is_canceled                                       0.11   \n",
      "lead_time                                         0.09   \n",
      "arrival_date_year                                -0.12   \n",
      "arrival_date_week_number                          0.04   \n",
      "arrival_date_day_of_month                        -0.03   \n",
      "stays_in_weekend_nights                          -0.01   \n",
      "stays_in_week_nights                             -0.01   \n",
      "adults                                           -0.01   \n",
      "children                                         -0.02   \n",
      "babies                                           -0.01   \n",
      "is_repeated_guest                                 0.08   \n",
      "previous_cancellations                            1.00   \n",
      "previous_bookings_not_canceled                    0.15   \n",
      "booking_changes                                  -0.03   \n",
      "agent                                            -0.01   \n",
      "company                                          -0.18   \n",
      "days_in_waiting_list                              0.01   \n",
      "adr                                              -0.07   \n",
      "required_car_parking_spaces                      -0.02   \n",
      "total_of_special_requests                        -0.05   \n",
      "\n",
      "                                previous_bookings_not_canceled  \\\n",
      "is_canceled                                              -0.06   \n",
      "lead_time                                                -0.07   \n",
      "arrival_date_year                                         0.03   \n",
      "arrival_date_week_number                                 -0.02   \n",
      "arrival_date_day_of_month                                -0.00   \n",
      "stays_in_weekend_nights                                  -0.04   \n",
      "stays_in_week_nights                                     -0.05   \n",
      "adults                                                   -0.11   \n",
      "children                                                 -0.02   \n",
      "babies                                                   -0.01   \n",
      "is_repeated_guest                                         0.42   \n",
      "previous_cancellations                                    0.15   \n",
      "previous_bookings_not_canceled                            1.00   \n",
      "booking_changes                                           0.01   \n",
      "agent                                                     0.02   \n",
      "company                                                  -0.21   \n",
      "days_in_waiting_list                                     -0.01   \n",
      "adr                                                      -0.07   \n",
      "required_car_parking_spaces                               0.05   \n",
      "total_of_special_requests                                 0.04   \n",
      "\n",
      "                                booking_changes  agent  company  \\\n",
      "is_canceled                               -0.14  -0.08    -0.02   \n",
      "lead_time                                  0.00  -0.07     0.15   \n",
      "arrival_date_year                          0.03   0.06     0.26   \n",
      "arrival_date_week_number                   0.01  -0.03    -0.08   \n",
      "arrival_date_day_of_month                  0.01   0.00     0.04   \n",
      "stays_in_weekend_nights                    0.06   0.14     0.07   \n",
      "stays_in_week_nights                       0.10   0.18     0.18   \n",
      "adults                                    -0.05  -0.04     0.21   \n",
      "children                                   0.05   0.04     0.03   \n",
      "babies                                     0.08   0.04     0.02   \n",
      "is_repeated_guest                          0.01   0.03    -0.24   \n",
      "previous_cancellations                    -0.03  -0.01    -0.18   \n",
      "previous_bookings_not_canceled             0.01   0.02    -0.21   \n",
      "booking_changes                            1.00   0.07     0.12   \n",
      "agent                                      0.07   1.00     0.35   \n",
      "company                                    0.12   0.35     1.00   \n",
      "days_in_waiting_list                      -0.01  -0.06     0.00   \n",
      "adr                                        0.02  -0.02     0.09   \n",
      "required_car_parking_spaces                0.07   0.18    -0.01   \n",
      "total_of_special_requests                  0.05   0.03    -0.10   \n",
      "\n",
      "                                days_in_waiting_list   adr  \\\n",
      "is_canceled                                     0.05  0.05   \n",
      "lead_time                                       0.17 -0.06   \n",
      "arrival_date_year                              -0.06  0.20   \n",
      "arrival_date_week_number                        0.02  0.08   \n",
      "arrival_date_day_of_month                       0.02  0.03   \n",
      "stays_in_weekend_nights                        -0.05  0.05   \n",
      "stays_in_week_nights                           -0.00  0.07   \n",
      "adults                                         -0.01  0.23   \n",
      "children                                       -0.03  0.32   \n",
      "babies                                         -0.01  0.03   \n",
      "is_repeated_guest                              -0.02 -0.13   \n",
      "previous_cancellations                          0.01 -0.07   \n",
      "previous_bookings_not_canceled                 -0.01 -0.07   \n",
      "booking_changes                                -0.01  0.02   \n",
      "agent                                          -0.06 -0.02   \n",
      "company                                         0.00  0.09   \n",
      "days_in_waiting_list                            1.00 -0.04   \n",
      "adr                                            -0.04  1.00   \n",
      "required_car_parking_spaces                    -0.03  0.06   \n",
      "total_of_special_requests                      -0.08  0.17   \n",
      "\n",
      "                                required_car_parking_spaces  \\\n",
      "is_canceled                                           -0.20   \n",
      "lead_time                                             -0.12   \n",
      "arrival_date_year                                     -0.01   \n",
      "arrival_date_week_number                               0.00   \n",
      "arrival_date_day_of_month                              0.01   \n",
      "stays_in_weekend_nights                               -0.02   \n",
      "stays_in_week_nights                                  -0.02   \n",
      "adults                                                 0.01   \n",
      "children                                               0.06   \n",
      "babies                                                 0.04   \n",
      "is_repeated_guest                                      0.08   \n",
      "previous_cancellations                                -0.02   \n",
      "previous_bookings_not_canceled                         0.05   \n",
      "booking_changes                                        0.07   \n",
      "agent                                                  0.18   \n",
      "company                                               -0.01   \n",
      "days_in_waiting_list                                  -0.03   \n",
      "adr                                                    0.06   \n",
      "required_car_parking_spaces                            1.00   \n",
      "total_of_special_requests                              0.08   \n",
      "\n",
      "                                total_of_special_requests  \n",
      "is_canceled                                         -0.23  \n",
      "lead_time                                           -0.10  \n",
      "arrival_date_year                                    0.11  \n",
      "arrival_date_week_number                             0.03  \n",
      "arrival_date_day_of_month                            0.00  \n",
      "stays_in_weekend_nights                              0.07  \n",
      "stays_in_week_nights                                 0.07  \n",
      "adults                                               0.12  \n",
      "children                                             0.08  \n",
      "babies                                               0.10  \n",
      "is_repeated_guest                                    0.01  \n",
      "previous_cancellations                              -0.05  \n",
      "previous_bookings_not_canceled                       0.04  \n",
      "booking_changes                                      0.05  \n",
      "agent                                                0.03  \n",
      "company                                             -0.10  \n",
      "days_in_waiting_list                                -0.08  \n",
      "adr                                                  0.17  \n",
      "required_car_parking_spaces                          0.08  \n",
      "total_of_special_requests                            1.00  \n"
     ]
    }
   ],
   "source": [
    "heatmap1=df.corr(method='pearson').round(decimals=2)\n",
    "print(heatmap1)"
   ]
  },
  {
   "cell_type": "code",
   "execution_count": 411,
   "id": "acb14362",
   "metadata": {},
   "outputs": [
    {
     "data": {
      "text/plain": [
       "adr                             children                          0.32\n",
       "children                        adr                               0.32\n",
       "company                         agent                             0.35\n",
       "agent                           company                           0.35\n",
       "previous_bookings_not_canceled  is_repeated_guest                 0.42\n",
       "is_repeated_guest               previous_bookings_not_canceled    0.42\n",
       "stays_in_weekend_nights         stays_in_week_nights              0.50\n",
       "stays_in_week_nights            stays_in_weekend_nights           0.50\n",
       "is_canceled                     is_canceled                       1.00\n",
       "adr                             adr                               1.00\n",
       "days_in_waiting_list            days_in_waiting_list              1.00\n",
       "company                         company                           1.00\n",
       "agent                           agent                             1.00\n",
       "booking_changes                 booking_changes                   1.00\n",
       "previous_bookings_not_canceled  previous_bookings_not_canceled    1.00\n",
       "is_repeated_guest               is_repeated_guest                 1.00\n",
       "required_car_parking_spaces     required_car_parking_spaces       1.00\n",
       "babies                          babies                            1.00\n",
       "children                        children                          1.00\n",
       "adults                          adults                            1.00\n",
       "stays_in_week_nights            stays_in_week_nights              1.00\n",
       "stays_in_weekend_nights         stays_in_weekend_nights           1.00\n",
       "arrival_date_day_of_month       arrival_date_day_of_month         1.00\n",
       "arrival_date_week_number        arrival_date_week_number          1.00\n",
       "arrival_date_year               arrival_date_year                 1.00\n",
       "lead_time                       lead_time                         1.00\n",
       "previous_cancellations          previous_cancellations            1.00\n",
       "total_of_special_requests       total_of_special_requests         1.00\n",
       "dtype: float64"
      ]
     },
     "execution_count": 411,
     "metadata": {},
     "output_type": "execute_result"
    }
   ],
   "source": [
    "corr_pairs=heatmap1.unstack()\n",
    "hig_corr=corr_pairs[corr_pairs>0.3].sort_values()\n",
    "hig_corr"
   ]
  },
  {
   "cell_type": "markdown",
   "id": "a4605d54",
   "metadata": {},
   "source": [
    "Heatmap and correlation coeffient table shows daily rate and children number have some correlation. \n",
    "Let's try the regression line by using them."
   ]
  },
  {
   "cell_type": "code",
   "execution_count": 429,
   "id": "eaf33225",
   "metadata": {},
   "outputs": [
    {
     "data": {
      "text/html": [
       "<table class=\"simpletable\">\n",
       "<caption>OLS Regression Results</caption>\n",
       "<tr>\n",
       "  <th>Dep. Variable:</th>           <td>adr</td>       <th>  R-squared:         </th> <td>   0.158</td>\n",
       "</tr>\n",
       "<tr>\n",
       "  <th>Model:</th>                   <td>OLS</td>       <th>  Adj. R-squared:    </th> <td>   0.154</td>\n",
       "</tr>\n",
       "<tr>\n",
       "  <th>Method:</th>             <td>Least Squares</td>  <th>  F-statistic:       </th> <td>   40.24</td>\n",
       "</tr>\n",
       "<tr>\n",
       "  <th>Date:</th>             <td>Fri, 27 May 2022</td> <th>  Prob (F-statistic):</th> <td>1.30e-09</td>\n",
       "</tr>\n",
       "<tr>\n",
       "  <th>Time:</th>                  <td>11:47:24</td>     <th>  Log-Likelihood:    </th> <td> -1082.8</td>\n",
       "</tr>\n",
       "<tr>\n",
       "  <th>No. Observations:</th>      <td>   217</td>      <th>  AIC:               </th> <td>   2170.</td>\n",
       "</tr>\n",
       "<tr>\n",
       "  <th>Df Residuals:</th>          <td>   215</td>      <th>  BIC:               </th> <td>   2176.</td>\n",
       "</tr>\n",
       "<tr>\n",
       "  <th>Df Model:</th>              <td>     1</td>      <th>                     </th>     <td> </td>   \n",
       "</tr>\n",
       "<tr>\n",
       "  <th>Covariance Type:</th>      <td>nonrobust</td>    <th>                     </th>     <td> </td>   \n",
       "</tr>\n",
       "</table>\n",
       "<table class=\"simpletable\">\n",
       "<tr>\n",
       "      <td></td>        <th>coef</th>     <th>std err</th>      <th>t</th>      <th>P>|t|</th>  <th>[0.025</th>    <th>0.975]</th>  \n",
       "</tr>\n",
       "<tr>\n",
       "  <th>const</th>    <td>   61.3523</td> <td>    2.455</td> <td>   24.993</td> <td> 0.000</td> <td>   56.514</td> <td>   66.191</td>\n",
       "</tr>\n",
       "<tr>\n",
       "  <th>children</th> <td>   66.2235</td> <td>   10.439</td> <td>    6.344</td> <td> 0.000</td> <td>   45.648</td> <td>   86.799</td>\n",
       "</tr>\n",
       "</table>\n",
       "<table class=\"simpletable\">\n",
       "<tr>\n",
       "  <th>Omnibus:</th>       <td>68.387</td> <th>  Durbin-Watson:     </th> <td>   0.716</td>\n",
       "</tr>\n",
       "<tr>\n",
       "  <th>Prob(Omnibus):</th> <td> 0.000</td> <th>  Jarque-Bera (JB):  </th> <td> 178.402</td>\n",
       "</tr>\n",
       "<tr>\n",
       "  <th>Skew:</th>          <td> 1.392</td> <th>  Prob(JB):          </th> <td>1.82e-39</td>\n",
       "</tr>\n",
       "<tr>\n",
       "  <th>Kurtosis:</th>      <td> 6.461</td> <th>  Cond. No.          </th> <td>    4.31</td>\n",
       "</tr>\n",
       "</table><br/><br/>Notes:<br/>[1] Standard Errors assume that the covariance matrix of the errors is correctly specified."
      ],
      "text/plain": [
       "<class 'statsmodels.iolib.summary.Summary'>\n",
       "\"\"\"\n",
       "                            OLS Regression Results                            \n",
       "==============================================================================\n",
       "Dep. Variable:                    adr   R-squared:                       0.158\n",
       "Model:                            OLS   Adj. R-squared:                  0.154\n",
       "Method:                 Least Squares   F-statistic:                     40.24\n",
       "Date:                Fri, 27 May 2022   Prob (F-statistic):           1.30e-09\n",
       "Time:                        11:47:24   Log-Likelihood:                -1082.8\n",
       "No. Observations:                 217   AIC:                             2170.\n",
       "Df Residuals:                     215   BIC:                             2176.\n",
       "Df Model:                           1                                         \n",
       "Covariance Type:            nonrobust                                         \n",
       "==============================================================================\n",
       "                 coef    std err          t      P>|t|      [0.025      0.975]\n",
       "------------------------------------------------------------------------------\n",
       "const         61.3523      2.455     24.993      0.000      56.514      66.191\n",
       "children      66.2235     10.439      6.344      0.000      45.648      86.799\n",
       "==============================================================================\n",
       "Omnibus:                       68.387   Durbin-Watson:                   0.716\n",
       "Prob(Omnibus):                  0.000   Jarque-Bera (JB):              178.402\n",
       "Skew:                           1.392   Prob(JB):                     1.82e-39\n",
       "Kurtosis:                       6.461   Cond. No.                         4.31\n",
       "==============================================================================\n",
       "\n",
       "Notes:\n",
       "[1] Standard Errors assume that the covariance matrix of the errors is correctly specified.\n",
       "\"\"\""
      ]
     },
     "execution_count": 429,
     "metadata": {},
     "output_type": "execute_result"
    }
   ],
   "source": [
    "dataframe_ra=pd.read_csv('hotel_bookings.csv')\n",
    "dataframe_raw=dataframe_ra.dropna()\n",
    "independent_variables=dataframe_raw['children']\n",
    "independent_variables = sm.add_constant(independent_variables)\n",
    "dependent_variables=dataframe_raw['adr']\n",
    "regression_model = sm.OLS(dependent_variables,independent_variables).fit()\n",
    "regression_model.summary()"
   ]
  },
  {
   "cell_type": "markdown",
   "id": "e444f68f",
   "metadata": {},
   "source": [
    "P-value is good but r-squared in not much good"
   ]
  },
  {
   "cell_type": "code",
   "execution_count": 416,
   "id": "3c3b83a5",
   "metadata": {},
   "outputs": [
    {
     "data": {
      "image/png": "[encoded data removed]",
      "text/plain": [
       "<Figure size 1440x360 with 1 Axes>"
      ]
     },
     "metadata": {},
     "output_type": "display_data"
    }
   ],
   "source": [
    "plt.scatter(x=df['children'],y=df['adr'])\n",
    "plt.xlabel('Number of Children')\n",
    "plt.ylabel('Daily Hotel Room Rate')\n",
    "plt.title('Room Rate vs Children Numbers')\n",
    "plt.show()"
   ]
  },
  {
   "cell_type": "code",
   "execution_count": 417,
   "id": "406091ef",
   "metadata": {},
   "outputs": [
    {
     "data": {
      "text/plain": [
       "Text(0.5, 1.0, 'Room Rate vs Children Numbers')"
      ]
     },
     "execution_count": 417,
     "metadata": {},
     "output_type": "execute_result"
    },
    {
     "data": {
      "image/png": "[encoded data removed]",
      "text/plain": [
       "<Figure size 1440x360 with 1 Axes>"
      ]
     },
     "metadata": {},
     "output_type": "display_data"
    }
   ],
   "source": [
    "sns.regplot(x='children',y='adr',data=df, scatter_kws={'color':'blue'}, line_kws={'color':\"red\"})\n",
    "plt.xlabel('Number of Children')\n",
    "plt.ylabel('Daily Hotel Room Rate')\n",
    "plt.title('Room Rate vs Children Numbers')"
   ]
  },
  {
   "cell_type": "markdown",
   "id": "2ff07a7b",
   "metadata": {},
   "source": [
    "Here is the linear regression line for my dateset."
   ]
  }
 ],
 "metadata": {
  "kernelspec": {
   "display_name": "Python 3 (ipykernel)",
   "language": "python",
   "name": "python3"
  },
  "language_info": {
   "codemirror_mode": {
    "name": "ipython",
    "version": 3
   },
   "file_extension": ".py",
   "mimetype": "text/x-python",
   "name": "python",
   "nbconvert_exporter": "python",
   "pygments_lexer": "ipython3",
   "version": "3.9.7"
  }
 },
 "nbformat": 4,
 "nbformat_minor": 5
} 
 
